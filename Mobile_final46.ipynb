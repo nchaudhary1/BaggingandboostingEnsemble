{
  "cells": [
    {
      "cell_type": "markdown",
      "metadata": {
        "id": "view-in-github",
        "colab_type": "text"
      },
      "source": [
        "<a href=\"https://colab.research.google.com/github/nchaudhary1/BaggingandboostingEnsemble/blob/main/Mobile_final46.ipynb\" target=\"_parent\"><img src=\"https://colab.research.google.com/assets/colab-badge.svg\" alt=\"Open In Colab\"/></a>"
      ]
    },
    {
      "cell_type": "code",
      "execution_count": 92,
      "metadata": {
        "id": "cFtlhsDg6np2",
        "colab": {
          "base_uri": "https://localhost:8080/",
          "height": 520
        },
        "outputId": "6e3df3ba-a27a-47d5-c4ad-bb5fc67fe597"
      },
      "outputs": [
        {
          "output_type": "execute_result",
          "data": {
            "text/html": [
              "\n",
              "  <div id=\"df-90afd6de-a5c4-469d-b66a-d18bd9cff4da\">\n",
              "    <div class=\"colab-df-container\">\n",
              "      <div>\n",
              "<style scoped>\n",
              "    .dataframe tbody tr th:only-of-type {\n",
              "        vertical-align: middle;\n",
              "    }\n",
              "\n",
              "    .dataframe tbody tr th {\n",
              "        vertical-align: top;\n",
              "    }\n",
              "\n",
              "    .dataframe thead th {\n",
              "        text-align: right;\n",
              "    }\n",
              "</style>\n",
              "<table border=\"1\" class=\"dataframe\">\n",
              "  <thead>\n",
              "    <tr style=\"text-align: right;\">\n",
              "      <th></th>\n",
              "      <th>ip</th>\n",
              "      <th>app</th>\n",
              "      <th>device</th>\n",
              "      <th>os</th>\n",
              "      <th>channel</th>\n",
              "      <th>click_time</th>\n",
              "      <th>attributed_time</th>\n",
              "      <th>is_attributed</th>\n",
              "    </tr>\n",
              "  </thead>\n",
              "  <tbody>\n",
              "    <tr>\n",
              "      <th>99985</th>\n",
              "      <td>61500</td>\n",
              "      <td>3</td>\n",
              "      <td>1</td>\n",
              "      <td>10</td>\n",
              "      <td>280</td>\n",
              "      <td>2017-11-09 01:50:53</td>\n",
              "      <td>NaN</td>\n",
              "      <td>0</td>\n",
              "    </tr>\n",
              "    <tr>\n",
              "      <th>99986</th>\n",
              "      <td>119614</td>\n",
              "      <td>2</td>\n",
              "      <td>1</td>\n",
              "      <td>19</td>\n",
              "      <td>219</td>\n",
              "      <td>2017-11-07 11:27:54</td>\n",
              "      <td>NaN</td>\n",
              "      <td>0</td>\n",
              "    </tr>\n",
              "    <tr>\n",
              "      <th>99987</th>\n",
              "      <td>41851</td>\n",
              "      <td>11</td>\n",
              "      <td>1</td>\n",
              "      <td>28</td>\n",
              "      <td>319</td>\n",
              "      <td>2017-11-08 13:19:42</td>\n",
              "      <td>NaN</td>\n",
              "      <td>0</td>\n",
              "    </tr>\n",
              "    <tr>\n",
              "      <th>99988</th>\n",
              "      <td>69449</td>\n",
              "      <td>6</td>\n",
              "      <td>1</td>\n",
              "      <td>13</td>\n",
              "      <td>125</td>\n",
              "      <td>2017-11-09 13:53:30</td>\n",
              "      <td>NaN</td>\n",
              "      <td>0</td>\n",
              "    </tr>\n",
              "    <tr>\n",
              "      <th>99989</th>\n",
              "      <td>92730</td>\n",
              "      <td>3</td>\n",
              "      <td>1</td>\n",
              "      <td>19</td>\n",
              "      <td>379</td>\n",
              "      <td>2017-11-07 11:02:08</td>\n",
              "      <td>NaN</td>\n",
              "      <td>0</td>\n",
              "    </tr>\n",
              "    <tr>\n",
              "      <th>99990</th>\n",
              "      <td>84388</td>\n",
              "      <td>9</td>\n",
              "      <td>1</td>\n",
              "      <td>22</td>\n",
              "      <td>107</td>\n",
              "      <td>2017-11-09 04:21:28</td>\n",
              "      <td>NaN</td>\n",
              "      <td>0</td>\n",
              "    </tr>\n",
              "    <tr>\n",
              "      <th>99991</th>\n",
              "      <td>43374</td>\n",
              "      <td>1</td>\n",
              "      <td>1</td>\n",
              "      <td>18</td>\n",
              "      <td>134</td>\n",
              "      <td>2017-11-09 12:42:34</td>\n",
              "      <td>NaN</td>\n",
              "      <td>0</td>\n",
              "    </tr>\n",
              "    <tr>\n",
              "      <th>99992</th>\n",
              "      <td>125061</td>\n",
              "      <td>12</td>\n",
              "      <td>1</td>\n",
              "      <td>13</td>\n",
              "      <td>328</td>\n",
              "      <td>2017-11-07 09:33:14</td>\n",
              "      <td>NaN</td>\n",
              "      <td>0</td>\n",
              "    </tr>\n",
              "    <tr>\n",
              "      <th>99993</th>\n",
              "      <td>146258</td>\n",
              "      <td>3</td>\n",
              "      <td>1</td>\n",
              "      <td>13</td>\n",
              "      <td>280</td>\n",
              "      <td>2017-11-09 03:03:17</td>\n",
              "      <td>NaN</td>\n",
              "      <td>0</td>\n",
              "    </tr>\n",
              "    <tr>\n",
              "      <th>99994</th>\n",
              "      <td>147153</td>\n",
              "      <td>13</td>\n",
              "      <td>1</td>\n",
              "      <td>13</td>\n",
              "      <td>477</td>\n",
              "      <td>2017-11-07 07:34:13</td>\n",
              "      <td>NaN</td>\n",
              "      <td>0</td>\n",
              "    </tr>\n",
              "    <tr>\n",
              "      <th>99995</th>\n",
              "      <td>124883</td>\n",
              "      <td>11</td>\n",
              "      <td>1</td>\n",
              "      <td>19</td>\n",
              "      <td>122</td>\n",
              "      <td>2017-11-09 13:25:41</td>\n",
              "      <td>NaN</td>\n",
              "      <td>0</td>\n",
              "    </tr>\n",
              "    <tr>\n",
              "      <th>99996</th>\n",
              "      <td>85150</td>\n",
              "      <td>9</td>\n",
              "      <td>1</td>\n",
              "      <td>13</td>\n",
              "      <td>244</td>\n",
              "      <td>2017-11-07 11:25:43</td>\n",
              "      <td>NaN</td>\n",
              "      <td>0</td>\n",
              "    </tr>\n",
              "    <tr>\n",
              "      <th>99997</th>\n",
              "      <td>18839</td>\n",
              "      <td>3</td>\n",
              "      <td>1</td>\n",
              "      <td>13</td>\n",
              "      <td>19</td>\n",
              "      <td>2017-11-08 11:38:42</td>\n",
              "      <td>NaN</td>\n",
              "      <td>0</td>\n",
              "    </tr>\n",
              "    <tr>\n",
              "      <th>99998</th>\n",
              "      <td>114276</td>\n",
              "      <td>15</td>\n",
              "      <td>1</td>\n",
              "      <td>12</td>\n",
              "      <td>245</td>\n",
              "      <td>2017-11-08 17:55:21</td>\n",
              "      <td>NaN</td>\n",
              "      <td>0</td>\n",
              "    </tr>\n",
              "    <tr>\n",
              "      <th>99999</th>\n",
              "      <td>119349</td>\n",
              "      <td>14</td>\n",
              "      <td>1</td>\n",
              "      <td>15</td>\n",
              "      <td>401</td>\n",
              "      <td>2017-11-07 14:32:27</td>\n",
              "      <td>NaN</td>\n",
              "      <td>0</td>\n",
              "    </tr>\n",
              "  </tbody>\n",
              "</table>\n",
              "</div>\n",
              "      <button class=\"colab-df-convert\" onclick=\"convertToInteractive('df-90afd6de-a5c4-469d-b66a-d18bd9cff4da')\"\n",
              "              title=\"Convert this dataframe to an interactive table.\"\n",
              "              style=\"display:none;\">\n",
              "        \n",
              "  <svg xmlns=\"http://www.w3.org/2000/svg\" height=\"24px\"viewBox=\"0 0 24 24\"\n",
              "       width=\"24px\">\n",
              "    <path d=\"M0 0h24v24H0V0z\" fill=\"none\"/>\n",
              "    <path d=\"M18.56 5.44l.94 2.06.94-2.06 2.06-.94-2.06-.94-.94-2.06-.94 2.06-2.06.94zm-11 1L8.5 8.5l.94-2.06 2.06-.94-2.06-.94L8.5 2.5l-.94 2.06-2.06.94zm10 10l.94 2.06.94-2.06 2.06-.94-2.06-.94-.94-2.06-.94 2.06-2.06.94z\"/><path d=\"M17.41 7.96l-1.37-1.37c-.4-.4-.92-.59-1.43-.59-.52 0-1.04.2-1.43.59L10.3 9.45l-7.72 7.72c-.78.78-.78 2.05 0 2.83L4 21.41c.39.39.9.59 1.41.59.51 0 1.02-.2 1.41-.59l7.78-7.78 2.81-2.81c.8-.78.8-2.07 0-2.86zM5.41 20L4 18.59l7.72-7.72 1.47 1.35L5.41 20z\"/>\n",
              "  </svg>\n",
              "      </button>\n",
              "      \n",
              "  <style>\n",
              "    .colab-df-container {\n",
              "      display:flex;\n",
              "      flex-wrap:wrap;\n",
              "      gap: 12px;\n",
              "    }\n",
              "\n",
              "    .colab-df-convert {\n",
              "      background-color: #E8F0FE;\n",
              "      border: none;\n",
              "      border-radius: 50%;\n",
              "      cursor: pointer;\n",
              "      display: none;\n",
              "      fill: #1967D2;\n",
              "      height: 32px;\n",
              "      padding: 0 0 0 0;\n",
              "      width: 32px;\n",
              "    }\n",
              "\n",
              "    .colab-df-convert:hover {\n",
              "      background-color: #E2EBFA;\n",
              "      box-shadow: 0px 1px 2px rgba(60, 64, 67, 0.3), 0px 1px 3px 1px rgba(60, 64, 67, 0.15);\n",
              "      fill: #174EA6;\n",
              "    }\n",
              "\n",
              "    [theme=dark] .colab-df-convert {\n",
              "      background-color: #3B4455;\n",
              "      fill: #D2E3FC;\n",
              "    }\n",
              "\n",
              "    [theme=dark] .colab-df-convert:hover {\n",
              "      background-color: #434B5C;\n",
              "      box-shadow: 0px 1px 3px 1px rgba(0, 0, 0, 0.15);\n",
              "      filter: drop-shadow(0px 1px 2px rgba(0, 0, 0, 0.3));\n",
              "      fill: #FFFFFF;\n",
              "    }\n",
              "  </style>\n",
              "\n",
              "      <script>\n",
              "        const buttonEl =\n",
              "          document.querySelector('#df-90afd6de-a5c4-469d-b66a-d18bd9cff4da button.colab-df-convert');\n",
              "        buttonEl.style.display =\n",
              "          google.colab.kernel.accessAllowed ? 'block' : 'none';\n",
              "\n",
              "        async function convertToInteractive(key) {\n",
              "          const element = document.querySelector('#df-90afd6de-a5c4-469d-b66a-d18bd9cff4da');\n",
              "          const dataTable =\n",
              "            await google.colab.kernel.invokeFunction('convertToInteractive',\n",
              "                                                     [key], {});\n",
              "          if (!dataTable) return;\n",
              "\n",
              "          const docLinkHtml = 'Like what you see? Visit the ' +\n",
              "            '<a target=\"_blank\" href=https://colab.research.google.com/notebooks/data_table.ipynb>data table notebook</a>'\n",
              "            + ' to learn more about interactive tables.';\n",
              "          element.innerHTML = '';\n",
              "          dataTable['output_type'] = 'display_data';\n",
              "          await google.colab.output.renderOutput(dataTable, element);\n",
              "          const docLink = document.createElement('div');\n",
              "          docLink.innerHTML = docLinkHtml;\n",
              "          element.appendChild(docLink);\n",
              "        }\n",
              "      </script>\n",
              "    </div>\n",
              "  </div>\n",
              "  "
            ],
            "text/plain": [
              "           ip  app  device  ...           click_time  attributed_time is_attributed\n",
              "99985   61500    3       1  ...  2017-11-09 01:50:53              NaN             0\n",
              "99986  119614    2       1  ...  2017-11-07 11:27:54              NaN             0\n",
              "99987   41851   11       1  ...  2017-11-08 13:19:42              NaN             0\n",
              "99988   69449    6       1  ...  2017-11-09 13:53:30              NaN             0\n",
              "99989   92730    3       1  ...  2017-11-07 11:02:08              NaN             0\n",
              "99990   84388    9       1  ...  2017-11-09 04:21:28              NaN             0\n",
              "99991   43374    1       1  ...  2017-11-09 12:42:34              NaN             0\n",
              "99992  125061   12       1  ...  2017-11-07 09:33:14              NaN             0\n",
              "99993  146258    3       1  ...  2017-11-09 03:03:17              NaN             0\n",
              "99994  147153   13       1  ...  2017-11-07 07:34:13              NaN             0\n",
              "99995  124883   11       1  ...  2017-11-09 13:25:41              NaN             0\n",
              "99996   85150    9       1  ...  2017-11-07 11:25:43              NaN             0\n",
              "99997   18839    3       1  ...  2017-11-08 11:38:42              NaN             0\n",
              "99998  114276   15       1  ...  2017-11-08 17:55:21              NaN             0\n",
              "99999  119349   14       1  ...  2017-11-07 14:32:27              NaN             0\n",
              "\n",
              "[15 rows x 8 columns]"
            ]
          },
          "metadata": {},
          "execution_count": 92
        }
      ],
      "source": [
        "#Importing the libraries \n",
        "import pandas as pd \n",
        "import numpy as np\n",
        "\n",
        "import seaborn as sns \n",
        "import matplotlib.pyplot as plt\n",
        "import warnings\n",
        "warnings.filterwarnings('ignore')\n",
        "\n",
        "%matplotlib inline \n",
        "\n",
        "data = pd.read_csv('/content/drive/MyDrive/talking_data.csv')\n",
        "data.tail(15)\n"
      ]
    },
    {
      "cell_type": "code",
      "execution_count": 93,
      "metadata": {
        "id": "bS3ETdrU7Zgk",
        "colab": {
          "base_uri": "https://localhost:8080/"
        },
        "outputId": "8f459581-4f50-4989-833e-d05631438352"
      },
      "outputs": [
        {
          "output_type": "stream",
          "name": "stdout",
          "text": [
            "<class 'pandas.core.frame.DataFrame'>\n",
            "RangeIndex: 100000 entries, 0 to 99999\n",
            "Data columns (total 8 columns):\n",
            " #   Column           Non-Null Count   Dtype \n",
            "---  ------           --------------   ----- \n",
            " 0   ip               100000 non-null  int64 \n",
            " 1   app              100000 non-null  int64 \n",
            " 2   device           100000 non-null  int64 \n",
            " 3   os               100000 non-null  int64 \n",
            " 4   channel          100000 non-null  int64 \n",
            " 5   click_time       100000 non-null  object\n",
            " 6   attributed_time  227 non-null     object\n",
            " 7   is_attributed    100000 non-null  int64 \n",
            "dtypes: int64(6), object(2)\n",
            "memory usage: 6.1+ MB\n"
          ]
        }
      ],
      "source": [
        "#Showing the datatypes of the columns \n",
        "data.info()"
      ]
    },
    {
      "cell_type": "code",
      "execution_count": 94,
      "metadata": {
        "id": "7fyFSgpr7b94",
        "colab": {
          "base_uri": "https://localhost:8080/",
          "height": 300
        },
        "outputId": "a9fed1f5-3af3-4039-cc77-d2c9d4603505"
      },
      "outputs": [
        {
          "output_type": "execute_result",
          "data": {
            "text/html": [
              "\n",
              "  <div id=\"df-8f0ee9f8-d5eb-4bbd-8717-52c25f0de4b2\">\n",
              "    <div class=\"colab-df-container\">\n",
              "      <div>\n",
              "<style scoped>\n",
              "    .dataframe tbody tr th:only-of-type {\n",
              "        vertical-align: middle;\n",
              "    }\n",
              "\n",
              "    .dataframe tbody tr th {\n",
              "        vertical-align: top;\n",
              "    }\n",
              "\n",
              "    .dataframe thead th {\n",
              "        text-align: right;\n",
              "    }\n",
              "</style>\n",
              "<table border=\"1\" class=\"dataframe\">\n",
              "  <thead>\n",
              "    <tr style=\"text-align: right;\">\n",
              "      <th></th>\n",
              "      <th>ip</th>\n",
              "      <th>app</th>\n",
              "      <th>device</th>\n",
              "      <th>os</th>\n",
              "      <th>channel</th>\n",
              "      <th>is_attributed</th>\n",
              "    </tr>\n",
              "  </thead>\n",
              "  <tbody>\n",
              "    <tr>\n",
              "      <th>count</th>\n",
              "      <td>100000.000000</td>\n",
              "      <td>100000.00000</td>\n",
              "      <td>100000.000000</td>\n",
              "      <td>100000.000000</td>\n",
              "      <td>100000.000000</td>\n",
              "      <td>100000.000000</td>\n",
              "    </tr>\n",
              "    <tr>\n",
              "      <th>mean</th>\n",
              "      <td>91255.879670</td>\n",
              "      <td>12.04788</td>\n",
              "      <td>21.771250</td>\n",
              "      <td>22.818280</td>\n",
              "      <td>268.832460</td>\n",
              "      <td>0.002270</td>\n",
              "    </tr>\n",
              "    <tr>\n",
              "      <th>std</th>\n",
              "      <td>69835.553661</td>\n",
              "      <td>14.94150</td>\n",
              "      <td>259.667767</td>\n",
              "      <td>55.943136</td>\n",
              "      <td>129.724248</td>\n",
              "      <td>0.047591</td>\n",
              "    </tr>\n",
              "    <tr>\n",
              "      <th>min</th>\n",
              "      <td>9.000000</td>\n",
              "      <td>1.00000</td>\n",
              "      <td>0.000000</td>\n",
              "      <td>0.000000</td>\n",
              "      <td>3.000000</td>\n",
              "      <td>0.000000</td>\n",
              "    </tr>\n",
              "    <tr>\n",
              "      <th>25%</th>\n",
              "      <td>40552.000000</td>\n",
              "      <td>3.00000</td>\n",
              "      <td>1.000000</td>\n",
              "      <td>13.000000</td>\n",
              "      <td>145.000000</td>\n",
              "      <td>0.000000</td>\n",
              "    </tr>\n",
              "    <tr>\n",
              "      <th>50%</th>\n",
              "      <td>79827.000000</td>\n",
              "      <td>12.00000</td>\n",
              "      <td>1.000000</td>\n",
              "      <td>18.000000</td>\n",
              "      <td>258.000000</td>\n",
              "      <td>0.000000</td>\n",
              "    </tr>\n",
              "    <tr>\n",
              "      <th>75%</th>\n",
              "      <td>118252.000000</td>\n",
              "      <td>15.00000</td>\n",
              "      <td>1.000000</td>\n",
              "      <td>19.000000</td>\n",
              "      <td>379.000000</td>\n",
              "      <td>0.000000</td>\n",
              "    </tr>\n",
              "    <tr>\n",
              "      <th>max</th>\n",
              "      <td>364757.000000</td>\n",
              "      <td>551.00000</td>\n",
              "      <td>3867.000000</td>\n",
              "      <td>866.000000</td>\n",
              "      <td>498.000000</td>\n",
              "      <td>1.000000</td>\n",
              "    </tr>\n",
              "  </tbody>\n",
              "</table>\n",
              "</div>\n",
              "      <button class=\"colab-df-convert\" onclick=\"convertToInteractive('df-8f0ee9f8-d5eb-4bbd-8717-52c25f0de4b2')\"\n",
              "              title=\"Convert this dataframe to an interactive table.\"\n",
              "              style=\"display:none;\">\n",
              "        \n",
              "  <svg xmlns=\"http://www.w3.org/2000/svg\" height=\"24px\"viewBox=\"0 0 24 24\"\n",
              "       width=\"24px\">\n",
              "    <path d=\"M0 0h24v24H0V0z\" fill=\"none\"/>\n",
              "    <path d=\"M18.56 5.44l.94 2.06.94-2.06 2.06-.94-2.06-.94-.94-2.06-.94 2.06-2.06.94zm-11 1L8.5 8.5l.94-2.06 2.06-.94-2.06-.94L8.5 2.5l-.94 2.06-2.06.94zm10 10l.94 2.06.94-2.06 2.06-.94-2.06-.94-.94-2.06-.94 2.06-2.06.94z\"/><path d=\"M17.41 7.96l-1.37-1.37c-.4-.4-.92-.59-1.43-.59-.52 0-1.04.2-1.43.59L10.3 9.45l-7.72 7.72c-.78.78-.78 2.05 0 2.83L4 21.41c.39.39.9.59 1.41.59.51 0 1.02-.2 1.41-.59l7.78-7.78 2.81-2.81c.8-.78.8-2.07 0-2.86zM5.41 20L4 18.59l7.72-7.72 1.47 1.35L5.41 20z\"/>\n",
              "  </svg>\n",
              "      </button>\n",
              "      \n",
              "  <style>\n",
              "    .colab-df-container {\n",
              "      display:flex;\n",
              "      flex-wrap:wrap;\n",
              "      gap: 12px;\n",
              "    }\n",
              "\n",
              "    .colab-df-convert {\n",
              "      background-color: #E8F0FE;\n",
              "      border: none;\n",
              "      border-radius: 50%;\n",
              "      cursor: pointer;\n",
              "      display: none;\n",
              "      fill: #1967D2;\n",
              "      height: 32px;\n",
              "      padding: 0 0 0 0;\n",
              "      width: 32px;\n",
              "    }\n",
              "\n",
              "    .colab-df-convert:hover {\n",
              "      background-color: #E2EBFA;\n",
              "      box-shadow: 0px 1px 2px rgba(60, 64, 67, 0.3), 0px 1px 3px 1px rgba(60, 64, 67, 0.15);\n",
              "      fill: #174EA6;\n",
              "    }\n",
              "\n",
              "    [theme=dark] .colab-df-convert {\n",
              "      background-color: #3B4455;\n",
              "      fill: #D2E3FC;\n",
              "    }\n",
              "\n",
              "    [theme=dark] .colab-df-convert:hover {\n",
              "      background-color: #434B5C;\n",
              "      box-shadow: 0px 1px 3px 1px rgba(0, 0, 0, 0.15);\n",
              "      filter: drop-shadow(0px 1px 2px rgba(0, 0, 0, 0.3));\n",
              "      fill: #FFFFFF;\n",
              "    }\n",
              "  </style>\n",
              "\n",
              "      <script>\n",
              "        const buttonEl =\n",
              "          document.querySelector('#df-8f0ee9f8-d5eb-4bbd-8717-52c25f0de4b2 button.colab-df-convert');\n",
              "        buttonEl.style.display =\n",
              "          google.colab.kernel.accessAllowed ? 'block' : 'none';\n",
              "\n",
              "        async function convertToInteractive(key) {\n",
              "          const element = document.querySelector('#df-8f0ee9f8-d5eb-4bbd-8717-52c25f0de4b2');\n",
              "          const dataTable =\n",
              "            await google.colab.kernel.invokeFunction('convertToInteractive',\n",
              "                                                     [key], {});\n",
              "          if (!dataTable) return;\n",
              "\n",
              "          const docLinkHtml = 'Like what you see? Visit the ' +\n",
              "            '<a target=\"_blank\" href=https://colab.research.google.com/notebooks/data_table.ipynb>data table notebook</a>'\n",
              "            + ' to learn more about interactive tables.';\n",
              "          element.innerHTML = '';\n",
              "          dataTable['output_type'] = 'display_data';\n",
              "          await google.colab.output.renderOutput(dataTable, element);\n",
              "          const docLink = document.createElement('div');\n",
              "          docLink.innerHTML = docLinkHtml;\n",
              "          element.appendChild(docLink);\n",
              "        }\n",
              "      </script>\n",
              "    </div>\n",
              "  </div>\n",
              "  "
            ],
            "text/plain": [
              "                  ip           app  ...        channel  is_attributed\n",
              "count  100000.000000  100000.00000  ...  100000.000000  100000.000000\n",
              "mean    91255.879670      12.04788  ...     268.832460       0.002270\n",
              "std     69835.553661      14.94150  ...     129.724248       0.047591\n",
              "min         9.000000       1.00000  ...       3.000000       0.000000\n",
              "25%     40552.000000       3.00000  ...     145.000000       0.000000\n",
              "50%     79827.000000      12.00000  ...     258.000000       0.000000\n",
              "75%    118252.000000      15.00000  ...     379.000000       0.000000\n",
              "max    364757.000000     551.00000  ...     498.000000       1.000000\n",
              "\n",
              "[8 rows x 6 columns]"
            ]
          },
          "metadata": {},
          "execution_count": 94
        }
      ],
      "source": [
        "#Getting the descriptive analysis(Summary of the data)\n",
        "data.describe()"
      ]
    },
    {
      "cell_type": "code",
      "execution_count": 95,
      "metadata": {
        "id": "YOMufai47vhT",
        "colab": {
          "base_uri": "https://localhost:8080/"
        },
        "outputId": "ac34d84d-fff4-4ab7-fa7b-e3d1bc997777"
      },
      "outputs": [
        {
          "output_type": "execute_result",
          "data": {
            "text/plain": [
              "ip                     0\n",
              "app                    0\n",
              "device                 0\n",
              "os                     0\n",
              "channel                0\n",
              "click_time             0\n",
              "attributed_time    99773\n",
              "is_attributed          0\n",
              "dtype: int64"
            ]
          },
          "metadata": {},
          "execution_count": 95
        }
      ],
      "source": [
        "#Checking for any missing values\n",
        "miss_val = data.isna().sum()\n",
        "miss_val"
      ]
    },
    {
      "cell_type": "code",
      "execution_count": 96,
      "metadata": {
        "id": "IZEWtyAQ8JX4",
        "colab": {
          "base_uri": "https://localhost:8080/"
        },
        "outputId": "22005921-3bb2-4435-9753-5cb43dc22d3b"
      },
      "outputs": [
        {
          "output_type": "stream",
          "name": "stdout",
          "text": [
            "5348      669\n",
            "5314      616\n",
            "73487     439\n",
            "73516     399\n",
            "53454     280\n",
            "         ... \n",
            "109522      1\n",
            "140527      1\n",
            "351154      1\n",
            "195068      1\n",
            "185961      1\n",
            "Name: ip, Length: 34857, dtype: int64\n"
          ]
        }
      ],
      "source": [
        "#Getting the value count of the ip column\n",
        "print(data.ip.value_counts())\n"
      ]
    },
    {
      "cell_type": "code",
      "execution_count": 97,
      "metadata": {
        "id": "jN3dgxNg8Pgl",
        "colab": {
          "base_uri": "https://localhost:8080/"
        },
        "outputId": "3d409ba4-5be0-4e82-afd3-12d36e129904"
      },
      "outputs": [
        {
          "output_type": "stream",
          "name": "stdout",
          "text": [
            "3      18279\n",
            "12     13198\n",
            "2      11737\n",
            "9       8992\n",
            "15      8595\n",
            "       ...  \n",
            "145        1\n",
            "97         1\n",
            "96         1\n",
            "267        1\n",
            "261        1\n",
            "Name: app, Length: 161, dtype: int64\n"
          ]
        }
      ],
      "source": [
        "#Getting the value count of the app column\n",
        "print(data.app.value_counts())\n"
      ]
    },
    {
      "cell_type": "code",
      "execution_count": 98,
      "metadata": {
        "id": "-UMV1v_c8Ue6",
        "colab": {
          "base_uri": "https://localhost:8080/"
        },
        "outputId": "95549a07-8ec8-4cad-f4f5-a972479b7800"
      },
      "outputs": [
        {
          "output_type": "execute_result",
          "data": {
            "text/plain": [
              "1       94338\n",
              "2        4345\n",
              "0         541\n",
              "3032      371\n",
              "3543      151\n",
              "        ...  \n",
              "374         1\n",
              "76          1\n",
              "3282        1\n",
              "129         1\n",
              "241         1\n",
              "Name: device, Length: 100, dtype: int64"
            ]
          },
          "metadata": {},
          "execution_count": 98
        }
      ],
      "source": [
        "#Getting the value count of the device column\n",
        "data.device.value_counts()"
      ]
    },
    {
      "cell_type": "code",
      "execution_count": 99,
      "metadata": {
        "id": "DWRixUS38XwR",
        "colab": {
          "base_uri": "https://localhost:8080/"
        },
        "outputId": "4ed7726f-f84f-4d1a-a28a-e202c413b6de"
      },
      "outputs": [
        {
          "output_type": "execute_result",
          "data": {
            "text/plain": [
              "19     23870\n",
              "13     21223\n",
              "17      5232\n",
              "18      4830\n",
              "22      4039\n",
              "       ...  \n",
              "153        1\n",
              "142        1\n",
              "151        1\n",
              "113        1\n",
              "193        1\n",
              "Name: os, Length: 130, dtype: int64"
            ]
          },
          "metadata": {},
          "execution_count": 99
        }
      ],
      "source": [
        "#Getting the value count of the os column\n",
        "data.os.value_counts()"
      ]
    },
    {
      "cell_type": "code",
      "execution_count": 100,
      "metadata": {
        "id": "8ofVruoE8bn9",
        "colab": {
          "base_uri": "https://localhost:8080/"
        },
        "outputId": "81e98803-3512-4627-da9c-42ca1e5a23b1"
      },
      "outputs": [
        {
          "output_type": "execute_result",
          "data": {
            "text/plain": [
              "280    8114\n",
              "245    4802\n",
              "107    4543\n",
              "477    3960\n",
              "134    3224\n",
              "       ... \n",
              "114       1\n",
              "474       1\n",
              "261       1\n",
              "465       1\n",
              "4         1\n",
              "Name: channel, Length: 161, dtype: int64"
            ]
          },
          "metadata": {},
          "execution_count": 100
        }
      ],
      "source": [
        "#Getting the value count of the channel column\n",
        "data.channel.value_counts()"
      ]
    },
    {
      "cell_type": "code",
      "execution_count": 101,
      "metadata": {
        "id": "nvU6rmLU8gRX",
        "colab": {
          "base_uri": "https://localhost:8080/"
        },
        "outputId": "1354bb8d-51c4-4375-eb7a-a4092c684f1b"
      },
      "outputs": [
        {
          "output_type": "execute_result",
          "data": {
            "text/plain": [
              "2017-11-08 12:01:02    7\n",
              "2017-11-07 05:00:11    6\n",
              "2017-11-09 14:46:23    6\n",
              "2017-11-07 04:36:16    6\n",
              "2017-11-08 13:32:05    6\n",
              "                      ..\n",
              "2017-11-07 08:31:55    1\n",
              "2017-11-08 23:35:15    1\n",
              "2017-11-08 10:01:33    1\n",
              "2017-11-09 11:01:52    1\n",
              "2017-11-09 13:25:41    1\n",
              "Name: click_time, Length: 80350, dtype: int64"
            ]
          },
          "metadata": {},
          "execution_count": 101
        }
      ],
      "source": [
        "#Getting the value count of the click_time column\n",
        "data.click_time.value_counts()"
      ]
    },
    {
      "cell_type": "code",
      "execution_count": 102,
      "metadata": {
        "id": "Qn9yjIf68kGv",
        "colab": {
          "base_uri": "https://localhost:8080/"
        },
        "outputId": "deb51dd1-3ebc-475e-d5d4-dc2e615829cd"
      },
      "outputs": [
        {
          "output_type": "execute_result",
          "data": {
            "text/plain": [
              "2017-11-08 02:22:38    1\n",
              "2017-11-09 14:22:16    1\n",
              "2017-11-08 04:35:54    1\n",
              "2017-11-08 06:19:51    1\n",
              "2017-11-09 08:57:08    1\n",
              "                      ..\n",
              "2017-11-07 08:08:09    1\n",
              "2017-11-09 10:47:54    1\n",
              "2017-11-09 11:50:42    1\n",
              "2017-11-08 15:26:07    1\n",
              "2017-11-08 15:09:40    1\n",
              "Name: attributed_time, Length: 227, dtype: int64"
            ]
          },
          "metadata": {},
          "execution_count": 102
        }
      ],
      "source": [
        "#getting the value count of the attributed_time column\n",
        "data.attributed_time.value_counts()"
      ]
    },
    {
      "cell_type": "code",
      "execution_count": 103,
      "metadata": {
        "id": "tBDNtyod8o6Q",
        "colab": {
          "base_uri": "https://localhost:8080/"
        },
        "outputId": "0b88c3e7-4503-4e45-c4c7-bb7714ed8c12"
      },
      "outputs": [
        {
          "output_type": "execute_result",
          "data": {
            "text/plain": [
              "0    99773\n",
              "1      227\n",
              "Name: is_attributed, dtype: int64"
            ]
          },
          "metadata": {},
          "execution_count": 103
        }
      ],
      "source": [
        "#Getting the value count of the is_attributed column\n",
        "data.is_attributed.value_counts()"
      ]
    },
    {
      "cell_type": "code",
      "execution_count": 104,
      "metadata": {
        "id": "7NQebBEXAT5I",
        "colab": {
          "base_uri": "https://localhost:8080/"
        },
        "outputId": "da584180-92b3-4152-b7b9-dc3939918084"
      },
      "outputs": [
        {
          "output_type": "execute_result",
          "data": {
            "text/plain": [
              "ip                 34857\n",
              "app                  161\n",
              "device               100\n",
              "os                   130\n",
              "channel              161\n",
              "click_time         80350\n",
              "attributed_time      227\n",
              "is_attributed          2\n",
              "dtype: int64"
            ]
          },
          "metadata": {},
          "execution_count": 104
        }
      ],
      "source": [
        "#find the number of unique values in each column\n",
        "count = data.nunique(axis = 0)\n",
        "count\n",
        "  "
      ]
    },
    {
      "cell_type": "code",
      "execution_count": 105,
      "metadata": {
        "id": "AaZSB3NIyHnw",
        "colab": {
          "base_uri": "https://localhost:8080/"
        },
        "outputId": "f093c227-0b12-4e5a-9563-751757d9d1c5"
      },
      "outputs": [
        {
          "output_type": "execute_result",
          "data": {
            "text/plain": [
              "80350"
            ]
          },
          "metadata": {},
          "execution_count": 105
        }
      ],
      "source": [
        "max_count = max(count)\n",
        "max_count\n",
        "  "
      ]
    },
    {
      "cell_type": "code",
      "execution_count": 106,
      "metadata": {
        "id": "7I9rgOHl0yfg",
        "colab": {
          "base_uri": "https://localhost:8080/"
        },
        "outputId": "53a12e16-3751-475f-fc16-d472bc27b757"
      },
      "outputs": [
        {
          "output_type": "stream",
          "name": "stdout",
          "text": [
            "The column with maximum number of unique values is Index(['click_time'], dtype='object')\n"
          ]
        }
      ],
      "source": [
        "max_unique_column = data.columns[count == max_count]\n",
        "max_unique_column\n",
        "print('The column with maximum number of unique values is',max_unique_column)"
      ]
    },
    {
      "cell_type": "code",
      "execution_count": 107,
      "metadata": {
        "id": "HEh9ZR40lD0I",
        "colab": {
          "base_uri": "https://localhost:8080/"
        },
        "outputId": "dd0b0b64-b008-4921-efc1-1a3da5ee1dd2"
      },
      "outputs": [
        {
          "output_type": "stream",
          "name": "stdout",
          "text": [
            "80350\n"
          ]
        }
      ],
      "source": [
        "\n",
        "for i in count:\n",
        "  max1 = count.max()\n",
        "  if i == max1:\n",
        "    print(i)\n",
        "  "
      ]
    },
    {
      "cell_type": "code",
      "execution_count": 108,
      "metadata": {
        "id": "3piiu25zUt2n",
        "colab": {
          "base_uri": "https://localhost:8080/"
        },
        "outputId": "eb41b299-632f-48e3-a004-e8792b0f93c0"
      },
      "outputs": [
        {
          "output_type": "stream",
          "name": "stdout",
          "text": [
            "click_time has the max unique values 80350\n"
          ]
        }
      ],
      "source": [
        "max_unique = count.max()\n",
        "if max_unique == count['ip']:\n",
        "  print('ip has the max unique values',count['ip'])\n",
        "elif max_unique == count['app']:\n",
        "  print('app has the max unique values',count['app'])\n",
        "elif max_unique == count['device']:\n",
        "  print('device has the max unique values',count['device'])\n",
        "elif max_unique == count['os']:\n",
        "  print('os has the max unique values',count['os'])\n",
        "elif max_unique == count['channel']:\n",
        "  print('channel has the max unique values',count['channel'])\n",
        "elif max_unique == count['click_time']:\n",
        "  print('click_time has the max unique values',count['click_time'])\n",
        "elif max_unique == count['attributed_time']:\n",
        "  print('attributed_time has the max unique values',count['attributed_time'])\n",
        "elif max_unique == count['is_attributed']:\n",
        "  print('is_attributed has the max unique values',count['is_attributed'])"
      ]
    },
    {
      "cell_type": "code",
      "execution_count": 109,
      "metadata": {
        "id": "cdYqakXv7QYu",
        "colab": {
          "base_uri": "https://localhost:8080/"
        },
        "outputId": "74f5ec64-639c-4776-95bf-966ba41de327"
      },
      "outputs": [
        {
          "output_type": "execute_result",
          "data": {
            "text/plain": [
              "array(['ip', 'app', 'device', 'os', 'channel', 'click_time',\n",
              "       'attributed_time', 'is_attributed'], dtype=object)"
            ]
          },
          "metadata": {},
          "execution_count": 109
        }
      ],
      "source": [
        "#getting the column names of the dataset\n",
        "data.columns.values"
      ]
    },
    {
      "cell_type": "code",
      "execution_count": 110,
      "metadata": {
        "id": "9CdD-Q1M7Yeb",
        "colab": {
          "base_uri": "https://localhost:8080/",
          "height": 296
        },
        "outputId": "d63a17ee-5eb0-4219-8db0-1a5f87da9181"
      },
      "outputs": [
        {
          "output_type": "execute_result",
          "data": {
            "text/plain": [
              "<matplotlib.axes._subplots.AxesSubplot at 0x7f0aaad07b90>"
            ]
          },
          "metadata": {},
          "execution_count": 110
        },
        {
          "output_type": "display_data",
          "data": {
            "image/png": "[encoded data removed]",
            "text/plain": [
              "<Figure size 432x288 with 1 Axes>"
            ]
          },
          "metadata": {
            "needs_background": "light"
          }
        }
      ],
      "source": [
        "sns.boxplot(data['app'])"
      ]
    },
    {
      "cell_type": "code",
      "execution_count": 111,
      "metadata": {
        "id": "9WzBq6w3XktL",
        "colab": {
          "base_uri": "https://localhost:8080/",
          "height": 206
        },
        "outputId": "30c2c290-67cd-4c71-db26-e0c9a1b32d90"
      },
      "outputs": [
        {
          "output_type": "execute_result",
          "data": {
            "text/html": [
              "\n",
              "  <div id=\"df-902a190a-3bc0-4806-8cd3-cc48df0b5f12\">\n",
              "    <div class=\"colab-df-container\">\n",
              "      <div>\n",
              "<style scoped>\n",
              "    .dataframe tbody tr th:only-of-type {\n",
              "        vertical-align: middle;\n",
              "    }\n",
              "\n",
              "    .dataframe tbody tr th {\n",
              "        vertical-align: top;\n",
              "    }\n",
              "\n",
              "    .dataframe thead th {\n",
              "        text-align: right;\n",
              "    }\n",
              "</style>\n",
              "<table border=\"1\" class=\"dataframe\">\n",
              "  <thead>\n",
              "    <tr style=\"text-align: right;\">\n",
              "      <th></th>\n",
              "      <th>app</th>\n",
              "      <th>count</th>\n",
              "      <th>ip</th>\n",
              "      <th>device</th>\n",
              "      <th>os</th>\n",
              "      <th>channel</th>\n",
              "      <th>click_time</th>\n",
              "      <th>attributed_time</th>\n",
              "      <th>is_attributed</th>\n",
              "    </tr>\n",
              "  </thead>\n",
              "  <tbody>\n",
              "    <tr>\n",
              "      <th>98972</th>\n",
              "      <td>151</td>\n",
              "      <td>109</td>\n",
              "      <td>26762</td>\n",
              "      <td>0</td>\n",
              "      <td>0</td>\n",
              "      <td>347</td>\n",
              "      <td>2017-11-07 11:03:36</td>\n",
              "      <td>NaN</td>\n",
              "      <td>0</td>\n",
              "    </tr>\n",
              "    <tr>\n",
              "      <th>98973</th>\n",
              "      <td>151</td>\n",
              "      <td>109</td>\n",
              "      <td>86767</td>\n",
              "      <td>0</td>\n",
              "      <td>24</td>\n",
              "      <td>347</td>\n",
              "      <td>2017-11-08 05:19:23</td>\n",
              "      <td>NaN</td>\n",
              "      <td>0</td>\n",
              "    </tr>\n",
              "    <tr>\n",
              "      <th>98974</th>\n",
              "      <td>151</td>\n",
              "      <td>109</td>\n",
              "      <td>81674</td>\n",
              "      <td>0</td>\n",
              "      <td>0</td>\n",
              "      <td>347</td>\n",
              "      <td>2017-11-08 04:31:22</td>\n",
              "      <td>NaN</td>\n",
              "      <td>0</td>\n",
              "    </tr>\n",
              "    <tr>\n",
              "      <th>98975</th>\n",
              "      <td>151</td>\n",
              "      <td>109</td>\n",
              "      <td>147113</td>\n",
              "      <td>0</td>\n",
              "      <td>38</td>\n",
              "      <td>347</td>\n",
              "      <td>2017-11-08 11:05:23</td>\n",
              "      <td>NaN</td>\n",
              "      <td>0</td>\n",
              "    </tr>\n",
              "    <tr>\n",
              "      <th>98976</th>\n",
              "      <td>151</td>\n",
              "      <td>109</td>\n",
              "      <td>147065</td>\n",
              "      <td>0</td>\n",
              "      <td>0</td>\n",
              "      <td>347</td>\n",
              "      <td>2017-11-07 04:42:09</td>\n",
              "      <td>NaN</td>\n",
              "      <td>0</td>\n",
              "    </tr>\n",
              "  </tbody>\n",
              "</table>\n",
              "</div>\n",
              "      <button class=\"colab-df-convert\" onclick=\"convertToInteractive('df-902a190a-3bc0-4806-8cd3-cc48df0b5f12')\"\n",
              "              title=\"Convert this dataframe to an interactive table.\"\n",
              "              style=\"display:none;\">\n",
              "        \n",
              "  <svg xmlns=\"http://www.w3.org/2000/svg\" height=\"24px\"viewBox=\"0 0 24 24\"\n",
              "       width=\"24px\">\n",
              "    <path d=\"M0 0h24v24H0V0z\" fill=\"none\"/>\n",
              "    <path d=\"M18.56 5.44l.94 2.06.94-2.06 2.06-.94-2.06-.94-.94-2.06-.94 2.06-2.06.94zm-11 1L8.5 8.5l.94-2.06 2.06-.94-2.06-.94L8.5 2.5l-.94 2.06-2.06.94zm10 10l.94 2.06.94-2.06 2.06-.94-2.06-.94-.94-2.06-.94 2.06-2.06.94z\"/><path d=\"M17.41 7.96l-1.37-1.37c-.4-.4-.92-.59-1.43-.59-.52 0-1.04.2-1.43.59L10.3 9.45l-7.72 7.72c-.78.78-.78 2.05 0 2.83L4 21.41c.39.39.9.59 1.41.59.51 0 1.02-.2 1.41-.59l7.78-7.78 2.81-2.81c.8-.78.8-2.07 0-2.86zM5.41 20L4 18.59l7.72-7.72 1.47 1.35L5.41 20z\"/>\n",
              "  </svg>\n",
              "      </button>\n",
              "      \n",
              "  <style>\n",
              "    .colab-df-container {\n",
              "      display:flex;\n",
              "      flex-wrap:wrap;\n",
              "      gap: 12px;\n",
              "    }\n",
              "\n",
              "    .colab-df-convert {\n",
              "      background-color: #E8F0FE;\n",
              "      border: none;\n",
              "      border-radius: 50%;\n",
              "      cursor: pointer;\n",
              "      display: none;\n",
              "      fill: #1967D2;\n",
              "      height: 32px;\n",
              "      padding: 0 0 0 0;\n",
              "      width: 32px;\n",
              "    }\n",
              "\n",
              "    .colab-df-convert:hover {\n",
              "      background-color: #E2EBFA;\n",
              "      box-shadow: 0px 1px 2px rgba(60, 64, 67, 0.3), 0px 1px 3px 1px rgba(60, 64, 67, 0.15);\n",
              "      fill: #174EA6;\n",
              "    }\n",
              "\n",
              "    [theme=dark] .colab-df-convert {\n",
              "      background-color: #3B4455;\n",
              "      fill: #D2E3FC;\n",
              "    }\n",
              "\n",
              "    [theme=dark] .colab-df-convert:hover {\n",
              "      background-color: #434B5C;\n",
              "      box-shadow: 0px 1px 3px 1px rgba(0, 0, 0, 0.15);\n",
              "      filter: drop-shadow(0px 1px 2px rgba(0, 0, 0, 0.3));\n",
              "      fill: #FFFFFF;\n",
              "    }\n",
              "  </style>\n",
              "\n",
              "      <script>\n",
              "        const buttonEl =\n",
              "          document.querySelector('#df-902a190a-3bc0-4806-8cd3-cc48df0b5f12 button.colab-df-convert');\n",
              "        buttonEl.style.display =\n",
              "          google.colab.kernel.accessAllowed ? 'block' : 'none';\n",
              "\n",
              "        async function convertToInteractive(key) {\n",
              "          const element = document.querySelector('#df-902a190a-3bc0-4806-8cd3-cc48df0b5f12');\n",
              "          const dataTable =\n",
              "            await google.colab.kernel.invokeFunction('convertToInteractive',\n",
              "                                                     [key], {});\n",
              "          if (!dataTable) return;\n",
              "\n",
              "          const docLinkHtml = 'Like what you see? Visit the ' +\n",
              "            '<a target=\"_blank\" href=https://colab.research.google.com/notebooks/data_table.ipynb>data table notebook</a>'\n",
              "            + ' to learn more about interactive tables.';\n",
              "          element.innerHTML = '';\n",
              "          dataTable['output_type'] = 'display_data';\n",
              "          await google.colab.output.renderOutput(dataTable, element);\n",
              "          const docLink = document.createElement('div');\n",
              "          docLink.innerHTML = docLinkHtml;\n",
              "          element.appendChild(docLink);\n",
              "        }\n",
              "      </script>\n",
              "    </div>\n",
              "  </div>\n",
              "  "
            ],
            "text/plain": [
              "       app  count      ip  ...           click_time  attributed_time  is_attributed\n",
              "98972  151    109   26762  ...  2017-11-07 11:03:36              NaN              0\n",
              "98973  151    109   86767  ...  2017-11-08 05:19:23              NaN              0\n",
              "98974  151    109   81674  ...  2017-11-08 04:31:22              NaN              0\n",
              "98975  151    109  147113  ...  2017-11-08 11:05:23              NaN              0\n",
              "98976  151    109  147065  ...  2017-11-07 04:42:09              NaN              0\n",
              "\n",
              "[5 rows x 9 columns]"
            ]
          },
          "metadata": {},
          "execution_count": 111
        }
      ],
      "source": [
        "#Grouping the dataset where the app column contains more than 20% of clicks\n",
        "apps = data.groupby('app').size().reset_index(name='count')\n",
        "apps = apps[apps['count']>apps['count'].quantile(0.80)]\n",
        "apps = apps.merge(data, on= 'app',how = 'inner')\n",
        "apps.tail()"
      ]
    },
    {
      "cell_type": "code",
      "source": [
        "#sns plot of the apps dataset based on the grouping by app\n",
        "sns.countplot(apps.app)"
      ],
      "metadata": {
        "id": "qVZz4GSE8kA_",
        "colab": {
          "base_uri": "https://localhost:8080/",
          "height": 296
        },
        "outputId": "2d55b99a-011e-41c2-fc8d-e4942b006bc3"
      },
      "execution_count": 112,
      "outputs": [
        {
          "output_type": "execute_result",
          "data": {
            "text/plain": [
              "<matplotlib.axes._subplots.AxesSubplot at 0x7f0aaacf95d0>"
            ]
          },
          "metadata": {},
          "execution_count": 112
        },
        {
          "output_type": "display_data",
          "data": {
            "image/png": "[encoded data removed]",
            "text/plain": [
              "<Figure size 432x288 with 1 Axes>"
            ]
          },
          "metadata": {
            "needs_background": "light"
          }
        }
      ]
    },
    {
      "cell_type": "code",
      "execution_count": 113,
      "metadata": {
        "id": "erxHMM2rZBwm",
        "colab": {
          "base_uri": "https://localhost:8080/"
        },
        "outputId": "ecb8f29d-c226-4439-e2d8-bb7e28feaa8d"
      },
      "outputs": [
        {
          "output_type": "execute_result",
          "data": {
            "text/plain": [
              "18279    18279\n",
              "13198    13198\n",
              "11737    11737\n",
              "8992      8992\n",
              "8595      8595\n",
              "8315      8315\n",
              "5359      5359\n",
              "3135      3135\n",
              "2422      2422\n",
              "2004      2004\n",
              "1979      1979\n",
              "1927      1927\n",
              "1633      1633\n",
              "1454      1454\n",
              "1303      1303\n",
              "1079      1079\n",
              "981        981\n",
              "911        911\n",
              "804        804\n",
              "720        720\n",
              "704        704\n",
              "696        696\n",
              "478        478\n",
              "388        388\n",
              "386        386\n",
              "380        380\n",
              "360        360\n",
              "286        286\n",
              "188        188\n",
              "109        109\n",
              "102        102\n",
              "73          73\n",
              "Name: count, dtype: int64"
            ]
          },
          "metadata": {},
          "execution_count": 113
        }
      ],
      "source": [
        "apps['count'].value_counts()"
      ]
    },
    {
      "cell_type": "code",
      "execution_count": 114,
      "metadata": {
        "id": "-8JT_gQxPf3Z",
        "colab": {
          "base_uri": "https://localhost:8080/"
        },
        "outputId": "4aba1c77-a5ed-4205-b71c-a11aaf142fea"
      },
      "outputs": [
        {
          "output_type": "stream",
          "name": "stdout",
          "text": [
            "<class 'pandas.core.frame.DataFrame'>\n",
            "RangeIndex: 100000 entries, 0 to 99999\n",
            "Data columns (total 8 columns):\n",
            " #   Column           Non-Null Count   Dtype         \n",
            "---  ------           --------------   -----         \n",
            " 0   ip               100000 non-null  int64         \n",
            " 1   app              100000 non-null  int64         \n",
            " 2   device           100000 non-null  int64         \n",
            " 3   os               100000 non-null  int64         \n",
            " 4   channel          100000 non-null  int64         \n",
            " 5   click_time       100000 non-null  datetime64[ns]\n",
            " 6   attributed_time  227 non-null     object        \n",
            " 7   is_attributed    100000 non-null  int64         \n",
            "dtypes: datetime64[ns](1), int64(6), object(1)\n",
            "memory usage: 6.1+ MB\n"
          ]
        }
      ],
      "source": [
        "#converting the datatime column to individual column with day, month, year and hour\n",
        "from datetime import datetime\n",
        "data['click_time'] = pd.to_datetime(data.click_time)\n",
        "data.info()\n",
        "data.head()\n",
        "data['Month'] = pd.DatetimeIndex(data['click_time']).month\n",
        "data['Year'] = pd.DatetimeIndex(data['click_time']).year\n",
        "data['Day'] = pd.DatetimeIndex(data['click_time']).day\n",
        "data['Hour'] = pd.DatetimeIndex(data['click_time']).hour"
      ]
    },
    {
      "cell_type": "code",
      "execution_count": 115,
      "metadata": {
        "id": "f1jcgW4-ITAz",
        "colab": {
          "base_uri": "https://localhost:8080/",
          "height": 536
        },
        "outputId": "f22668da-7e9d-4e32-d1d4-8f9f76517edf"
      },
      "outputs": [
        {
          "output_type": "stream",
          "name": "stdout",
          "text": [
            "<class 'pandas.core.frame.DataFrame'>\n",
            "RangeIndex: 100000 entries, 0 to 99999\n",
            "Data columns (total 12 columns):\n",
            " #   Column           Non-Null Count   Dtype         \n",
            "---  ------           --------------   -----         \n",
            " 0   ip               100000 non-null  int64         \n",
            " 1   app              100000 non-null  int64         \n",
            " 2   device           100000 non-null  int64         \n",
            " 3   os               100000 non-null  int64         \n",
            " 4   channel          100000 non-null  int64         \n",
            " 5   click_time       100000 non-null  datetime64[ns]\n",
            " 6   attributed_time  227 non-null     object        \n",
            " 7   is_attributed    100000 non-null  int64         \n",
            " 8   Month            100000 non-null  int64         \n",
            " 9   Year             100000 non-null  int64         \n",
            " 10  Day              100000 non-null  int64         \n",
            " 11  Hour             100000 non-null  int64         \n",
            "dtypes: datetime64[ns](1), int64(10), object(1)\n",
            "memory usage: 9.2+ MB\n"
          ]
        },
        {
          "output_type": "execute_result",
          "data": {
            "text/html": [
              "\n",
              "  <div id=\"df-7f06073a-1659-4e2c-873a-bdaa14e732fc\">\n",
              "    <div class=\"colab-df-container\">\n",
              "      <div>\n",
              "<style scoped>\n",
              "    .dataframe tbody tr th:only-of-type {\n",
              "        vertical-align: middle;\n",
              "    }\n",
              "\n",
              "    .dataframe tbody tr th {\n",
              "        vertical-align: top;\n",
              "    }\n",
              "\n",
              "    .dataframe thead th {\n",
              "        text-align: right;\n",
              "    }\n",
              "</style>\n",
              "<table border=\"1\" class=\"dataframe\">\n",
              "  <thead>\n",
              "    <tr style=\"text-align: right;\">\n",
              "      <th></th>\n",
              "      <th>ip</th>\n",
              "      <th>app</th>\n",
              "      <th>device</th>\n",
              "      <th>os</th>\n",
              "      <th>channel</th>\n",
              "      <th>click_time</th>\n",
              "      <th>attributed_time</th>\n",
              "      <th>is_attributed</th>\n",
              "      <th>Month</th>\n",
              "      <th>Year</th>\n",
              "      <th>Day</th>\n",
              "      <th>Hour</th>\n",
              "    </tr>\n",
              "  </thead>\n",
              "  <tbody>\n",
              "    <tr>\n",
              "      <th>0</th>\n",
              "      <td>87540</td>\n",
              "      <td>12</td>\n",
              "      <td>1</td>\n",
              "      <td>13</td>\n",
              "      <td>497</td>\n",
              "      <td>2017-11-07 09:30:38</td>\n",
              "      <td>NaN</td>\n",
              "      <td>0</td>\n",
              "      <td>11</td>\n",
              "      <td>2017</td>\n",
              "      <td>7</td>\n",
              "      <td>9</td>\n",
              "    </tr>\n",
              "    <tr>\n",
              "      <th>1</th>\n",
              "      <td>105560</td>\n",
              "      <td>25</td>\n",
              "      <td>1</td>\n",
              "      <td>17</td>\n",
              "      <td>259</td>\n",
              "      <td>2017-11-07 13:40:27</td>\n",
              "      <td>NaN</td>\n",
              "      <td>0</td>\n",
              "      <td>11</td>\n",
              "      <td>2017</td>\n",
              "      <td>7</td>\n",
              "      <td>13</td>\n",
              "    </tr>\n",
              "    <tr>\n",
              "      <th>2</th>\n",
              "      <td>101424</td>\n",
              "      <td>12</td>\n",
              "      <td>1</td>\n",
              "      <td>19</td>\n",
              "      <td>212</td>\n",
              "      <td>2017-11-07 18:05:24</td>\n",
              "      <td>NaN</td>\n",
              "      <td>0</td>\n",
              "      <td>11</td>\n",
              "      <td>2017</td>\n",
              "      <td>7</td>\n",
              "      <td>18</td>\n",
              "    </tr>\n",
              "    <tr>\n",
              "      <th>3</th>\n",
              "      <td>94584</td>\n",
              "      <td>13</td>\n",
              "      <td>1</td>\n",
              "      <td>13</td>\n",
              "      <td>477</td>\n",
              "      <td>2017-11-07 04:58:08</td>\n",
              "      <td>NaN</td>\n",
              "      <td>0</td>\n",
              "      <td>11</td>\n",
              "      <td>2017</td>\n",
              "      <td>7</td>\n",
              "      <td>4</td>\n",
              "    </tr>\n",
              "    <tr>\n",
              "      <th>4</th>\n",
              "      <td>68413</td>\n",
              "      <td>12</td>\n",
              "      <td>1</td>\n",
              "      <td>1</td>\n",
              "      <td>178</td>\n",
              "      <td>2017-11-09 09:00:09</td>\n",
              "      <td>NaN</td>\n",
              "      <td>0</td>\n",
              "      <td>11</td>\n",
              "      <td>2017</td>\n",
              "      <td>9</td>\n",
              "      <td>9</td>\n",
              "    </tr>\n",
              "  </tbody>\n",
              "</table>\n",
              "</div>\n",
              "      <button class=\"colab-df-convert\" onclick=\"convertToInteractive('df-7f06073a-1659-4e2c-873a-bdaa14e732fc')\"\n",
              "              title=\"Convert this dataframe to an interactive table.\"\n",
              "              style=\"display:none;\">\n",
              "        \n",
              "  <svg xmlns=\"http://www.w3.org/2000/svg\" height=\"24px\"viewBox=\"0 0 24 24\"\n",
              "       width=\"24px\">\n",
              "    <path d=\"M0 0h24v24H0V0z\" fill=\"none\"/>\n",
              "    <path d=\"M18.56 5.44l.94 2.06.94-2.06 2.06-.94-2.06-.94-.94-2.06-.94 2.06-2.06.94zm-11 1L8.5 8.5l.94-2.06 2.06-.94-2.06-.94L8.5 2.5l-.94 2.06-2.06.94zm10 10l.94 2.06.94-2.06 2.06-.94-2.06-.94-.94-2.06-.94 2.06-2.06.94z\"/><path d=\"M17.41 7.96l-1.37-1.37c-.4-.4-.92-.59-1.43-.59-.52 0-1.04.2-1.43.59L10.3 9.45l-7.72 7.72c-.78.78-.78 2.05 0 2.83L4 21.41c.39.39.9.59 1.41.59.51 0 1.02-.2 1.41-.59l7.78-7.78 2.81-2.81c.8-.78.8-2.07 0-2.86zM5.41 20L4 18.59l7.72-7.72 1.47 1.35L5.41 20z\"/>\n",
              "  </svg>\n",
              "      </button>\n",
              "      \n",
              "  <style>\n",
              "    .colab-df-container {\n",
              "      display:flex;\n",
              "      flex-wrap:wrap;\n",
              "      gap: 12px;\n",
              "    }\n",
              "\n",
              "    .colab-df-convert {\n",
              "      background-color: #E8F0FE;\n",
              "      border: none;\n",
              "      border-radius: 50%;\n",
              "      cursor: pointer;\n",
              "      display: none;\n",
              "      fill: #1967D2;\n",
              "      height: 32px;\n",
              "      padding: 0 0 0 0;\n",
              "      width: 32px;\n",
              "    }\n",
              "\n",
              "    .colab-df-convert:hover {\n",
              "      background-color: #E2EBFA;\n",
              "      box-shadow: 0px 1px 2px rgba(60, 64, 67, 0.3), 0px 1px 3px 1px rgba(60, 64, 67, 0.15);\n",
              "      fill: #174EA6;\n",
              "    }\n",
              "\n",
              "    [theme=dark] .colab-df-convert {\n",
              "      background-color: #3B4455;\n",
              "      fill: #D2E3FC;\n",
              "    }\n",
              "\n",
              "    [theme=dark] .colab-df-convert:hover {\n",
              "      background-color: #434B5C;\n",
              "      box-shadow: 0px 1px 3px 1px rgba(0, 0, 0, 0.15);\n",
              "      filter: drop-shadow(0px 1px 2px rgba(0, 0, 0, 0.3));\n",
              "      fill: #FFFFFF;\n",
              "    }\n",
              "  </style>\n",
              "\n",
              "      <script>\n",
              "        const buttonEl =\n",
              "          document.querySelector('#df-7f06073a-1659-4e2c-873a-bdaa14e732fc button.colab-df-convert');\n",
              "        buttonEl.style.display =\n",
              "          google.colab.kernel.accessAllowed ? 'block' : 'none';\n",
              "\n",
              "        async function convertToInteractive(key) {\n",
              "          const element = document.querySelector('#df-7f06073a-1659-4e2c-873a-bdaa14e732fc');\n",
              "          const dataTable =\n",
              "            await google.colab.kernel.invokeFunction('convertToInteractive',\n",
              "                                                     [key], {});\n",
              "          if (!dataTable) return;\n",
              "\n",
              "          const docLinkHtml = 'Like what you see? Visit the ' +\n",
              "            '<a target=\"_blank\" href=https://colab.research.google.com/notebooks/data_table.ipynb>data table notebook</a>'\n",
              "            + ' to learn more about interactive tables.';\n",
              "          element.innerHTML = '';\n",
              "          dataTable['output_type'] = 'display_data';\n",
              "          await google.colab.output.renderOutput(dataTable, element);\n",
              "          const docLink = document.createElement('div');\n",
              "          docLink.innerHTML = docLinkHtml;\n",
              "          element.appendChild(docLink);\n",
              "        }\n",
              "      </script>\n",
              "    </div>\n",
              "  </div>\n",
              "  "
            ],
            "text/plain": [
              "       ip  app  device  os  channel  ... is_attributed Month  Year  Day  Hour\n",
              "0   87540   12       1  13      497  ...             0    11  2017    7     9\n",
              "1  105560   25       1  17      259  ...             0    11  2017    7    13\n",
              "2  101424   12       1  19      212  ...             0    11  2017    7    18\n",
              "3   94584   13       1  13      477  ...             0    11  2017    7     4\n",
              "4   68413   12       1   1      178  ...             0    11  2017    9     9\n",
              "\n",
              "[5 rows x 12 columns]"
            ]
          },
          "metadata": {},
          "execution_count": 115
        }
      ],
      "source": [
        "data.info()\n",
        "data.head()"
      ]
    },
    {
      "cell_type": "code",
      "execution_count": 116,
      "metadata": {
        "id": "-CcFT6KiJEgc",
        "colab": {
          "base_uri": "https://localhost:8080/",
          "height": 206
        },
        "outputId": "1168b93e-adcf-4703-fd04-ac464a8fb69f"
      },
      "outputs": [
        {
          "output_type": "execute_result",
          "data": {
            "text/html": [
              "\n",
              "  <div id=\"df-c059ea1e-b09f-4dcc-9873-a21811c65fd5\">\n",
              "    <div class=\"colab-df-container\">\n",
              "      <div>\n",
              "<style scoped>\n",
              "    .dataframe tbody tr th:only-of-type {\n",
              "        vertical-align: middle;\n",
              "    }\n",
              "\n",
              "    .dataframe tbody tr th {\n",
              "        vertical-align: top;\n",
              "    }\n",
              "\n",
              "    .dataframe thead th {\n",
              "        text-align: right;\n",
              "    }\n",
              "</style>\n",
              "<table border=\"1\" class=\"dataframe\">\n",
              "  <thead>\n",
              "    <tr style=\"text-align: right;\">\n",
              "      <th></th>\n",
              "      <th>ip</th>\n",
              "      <th>app</th>\n",
              "      <th>device</th>\n",
              "      <th>os</th>\n",
              "      <th>channel</th>\n",
              "      <th>is_attributed</th>\n",
              "      <th>Day</th>\n",
              "      <th>Hour</th>\n",
              "    </tr>\n",
              "  </thead>\n",
              "  <tbody>\n",
              "    <tr>\n",
              "      <th>0</th>\n",
              "      <td>87540</td>\n",
              "      <td>12</td>\n",
              "      <td>1</td>\n",
              "      <td>13</td>\n",
              "      <td>497</td>\n",
              "      <td>0</td>\n",
              "      <td>7</td>\n",
              "      <td>9</td>\n",
              "    </tr>\n",
              "    <tr>\n",
              "      <th>1</th>\n",
              "      <td>105560</td>\n",
              "      <td>25</td>\n",
              "      <td>1</td>\n",
              "      <td>17</td>\n",
              "      <td>259</td>\n",
              "      <td>0</td>\n",
              "      <td>7</td>\n",
              "      <td>13</td>\n",
              "    </tr>\n",
              "    <tr>\n",
              "      <th>2</th>\n",
              "      <td>101424</td>\n",
              "      <td>12</td>\n",
              "      <td>1</td>\n",
              "      <td>19</td>\n",
              "      <td>212</td>\n",
              "      <td>0</td>\n",
              "      <td>7</td>\n",
              "      <td>18</td>\n",
              "    </tr>\n",
              "    <tr>\n",
              "      <th>3</th>\n",
              "      <td>94584</td>\n",
              "      <td>13</td>\n",
              "      <td>1</td>\n",
              "      <td>13</td>\n",
              "      <td>477</td>\n",
              "      <td>0</td>\n",
              "      <td>7</td>\n",
              "      <td>4</td>\n",
              "    </tr>\n",
              "    <tr>\n",
              "      <th>4</th>\n",
              "      <td>68413</td>\n",
              "      <td>12</td>\n",
              "      <td>1</td>\n",
              "      <td>1</td>\n",
              "      <td>178</td>\n",
              "      <td>0</td>\n",
              "      <td>9</td>\n",
              "      <td>9</td>\n",
              "    </tr>\n",
              "  </tbody>\n",
              "</table>\n",
              "</div>\n",
              "      <button class=\"colab-df-convert\" onclick=\"convertToInteractive('df-c059ea1e-b09f-4dcc-9873-a21811c65fd5')\"\n",
              "              title=\"Convert this dataframe to an interactive table.\"\n",
              "              style=\"display:none;\">\n",
              "        \n",
              "  <svg xmlns=\"http://www.w3.org/2000/svg\" height=\"24px\"viewBox=\"0 0 24 24\"\n",
              "       width=\"24px\">\n",
              "    <path d=\"M0 0h24v24H0V0z\" fill=\"none\"/>\n",
              "    <path d=\"M18.56 5.44l.94 2.06.94-2.06 2.06-.94-2.06-.94-.94-2.06-.94 2.06-2.06.94zm-11 1L8.5 8.5l.94-2.06 2.06-.94-2.06-.94L8.5 2.5l-.94 2.06-2.06.94zm10 10l.94 2.06.94-2.06 2.06-.94-2.06-.94-.94-2.06-.94 2.06-2.06.94z\"/><path d=\"M17.41 7.96l-1.37-1.37c-.4-.4-.92-.59-1.43-.59-.52 0-1.04.2-1.43.59L10.3 9.45l-7.72 7.72c-.78.78-.78 2.05 0 2.83L4 21.41c.39.39.9.59 1.41.59.51 0 1.02-.2 1.41-.59l7.78-7.78 2.81-2.81c.8-.78.8-2.07 0-2.86zM5.41 20L4 18.59l7.72-7.72 1.47 1.35L5.41 20z\"/>\n",
              "  </svg>\n",
              "      </button>\n",
              "      \n",
              "  <style>\n",
              "    .colab-df-container {\n",
              "      display:flex;\n",
              "      flex-wrap:wrap;\n",
              "      gap: 12px;\n",
              "    }\n",
              "\n",
              "    .colab-df-convert {\n",
              "      background-color: #E8F0FE;\n",
              "      border: none;\n",
              "      border-radius: 50%;\n",
              "      cursor: pointer;\n",
              "      display: none;\n",
              "      fill: #1967D2;\n",
              "      height: 32px;\n",
              "      padding: 0 0 0 0;\n",
              "      width: 32px;\n",
              "    }\n",
              "\n",
              "    .colab-df-convert:hover {\n",
              "      background-color: #E2EBFA;\n",
              "      box-shadow: 0px 1px 2px rgba(60, 64, 67, 0.3), 0px 1px 3px 1px rgba(60, 64, 67, 0.15);\n",
              "      fill: #174EA6;\n",
              "    }\n",
              "\n",
              "    [theme=dark] .colab-df-convert {\n",
              "      background-color: #3B4455;\n",
              "      fill: #D2E3FC;\n",
              "    }\n",
              "\n",
              "    [theme=dark] .colab-df-convert:hover {\n",
              "      background-color: #434B5C;\n",
              "      box-shadow: 0px 1px 3px 1px rgba(0, 0, 0, 0.15);\n",
              "      filter: drop-shadow(0px 1px 2px rgba(0, 0, 0, 0.3));\n",
              "      fill: #FFFFFF;\n",
              "    }\n",
              "  </style>\n",
              "\n",
              "      <script>\n",
              "        const buttonEl =\n",
              "          document.querySelector('#df-c059ea1e-b09f-4dcc-9873-a21811c65fd5 button.colab-df-convert');\n",
              "        buttonEl.style.display =\n",
              "          google.colab.kernel.accessAllowed ? 'block' : 'none';\n",
              "\n",
              "        async function convertToInteractive(key) {\n",
              "          const element = document.querySelector('#df-c059ea1e-b09f-4dcc-9873-a21811c65fd5');\n",
              "          const dataTable =\n",
              "            await google.colab.kernel.invokeFunction('convertToInteractive',\n",
              "                                                     [key], {});\n",
              "          if (!dataTable) return;\n",
              "\n",
              "          const docLinkHtml = 'Like what you see? Visit the ' +\n",
              "            '<a target=\"_blank\" href=https://colab.research.google.com/notebooks/data_table.ipynb>data table notebook</a>'\n",
              "            + ' to learn more about interactive tables.';\n",
              "          element.innerHTML = '';\n",
              "          dataTable['output_type'] = 'display_data';\n",
              "          await google.colab.output.renderOutput(dataTable, element);\n",
              "          const docLink = document.createElement('div');\n",
              "          docLink.innerHTML = docLinkHtml;\n",
              "          element.appendChild(docLink);\n",
              "        }\n",
              "      </script>\n",
              "    </div>\n",
              "  </div>\n",
              "  "
            ],
            "text/plain": [
              "       ip  app  device  os  channel  is_attributed  Day  Hour\n",
              "0   87540   12       1  13      497              0    7     9\n",
              "1  105560   25       1  17      259              0    7    13\n",
              "2  101424   12       1  19      212              0    7    18\n",
              "3   94584   13       1  13      477              0    7     4\n",
              "4   68413   12       1   1      178              0    9     9"
            ]
          },
          "metadata": {},
          "execution_count": 116
        }
      ],
      "source": [
        "#Dropping the columns that has bareluy any effect on the app downloads\n",
        "data.drop(columns = ['click_time','attributed_time','Month','Year'], inplace = True)\n",
        "data.head()"
      ]
    },
    {
      "cell_type": "code",
      "execution_count": 117,
      "metadata": {
        "id": "8WoFXPRRJWdl",
        "colab": {
          "base_uri": "https://localhost:8080/"
        },
        "outputId": "bedd34b3-b8bb-4284-a82b-7d21f186a7dd"
      },
      "outputs": [
        {
          "output_type": "execute_result",
          "data": {
            "text/plain": [
              "ip               0\n",
              "app              0\n",
              "device           0\n",
              "os               0\n",
              "channel          0\n",
              "is_attributed    0\n",
              "Day              0\n",
              "Hour             0\n",
              "dtype: int64"
            ]
          },
          "metadata": {},
          "execution_count": 117
        }
      ],
      "source": [
        "data.isna().sum()"
      ]
    },
    {
      "cell_type": "code",
      "execution_count": 118,
      "metadata": {
        "colab": {
          "base_uri": "https://localhost:8080/"
        },
        "id": "SoLHYaQFKRZJ",
        "outputId": "f029082f-e0c7-48f6-9588-d2ff3229662e"
      },
      "outputs": [
        {
          "output_type": "execute_result",
          "data": {
            "text/plain": [
              "0    99773\n",
              "1      227\n",
              "Name: is_attributed, dtype: int64"
            ]
          },
          "metadata": {},
          "execution_count": 118
        }
      ],
      "source": [
        "data.is_attributed.value_counts()"
      ]
    },
    {
      "cell_type": "code",
      "source": [
        "#Scaling the data\n",
        "from sklearn.preprocessing import MinMaxScaler\n",
        "min_max_scaler = MinMaxScaler()\n",
        "min_max_scaler.fit(data)\n",
        "data = pd.DataFrame(min_max_scaler.transform(data))\n",
        "columns_name = ['ip','app','device','os','channel','is_attributed','Day','Hour']\n",
        "data.columns = columns_name\n",
        "data.head()\n"
      ],
      "metadata": {
        "colab": {
          "base_uri": "https://localhost:8080/",
          "height": 206
        },
        "id": "QSOFr5Ny--wU",
        "outputId": "46e3bc5b-faf4-41f3-ecb4-0fcfbe81f9fc"
      },
      "execution_count": 119,
      "outputs": [
        {
          "output_type": "execute_result",
          "data": {
            "text/html": [
              "\n",
              "  <div id=\"df-7a498d8e-52f2-42c5-b3a9-909671855706\">\n",
              "    <div class=\"colab-df-container\">\n",
              "      <div>\n",
              "<style scoped>\n",
              "    .dataframe tbody tr th:only-of-type {\n",
              "        vertical-align: middle;\n",
              "    }\n",
              "\n",
              "    .dataframe tbody tr th {\n",
              "        vertical-align: top;\n",
              "    }\n",
              "\n",
              "    .dataframe thead th {\n",
              "        text-align: right;\n",
              "    }\n",
              "</style>\n",
              "<table border=\"1\" class=\"dataframe\">\n",
              "  <thead>\n",
              "    <tr style=\"text-align: right;\">\n",
              "      <th></th>\n",
              "      <th>ip</th>\n",
              "      <th>app</th>\n",
              "      <th>device</th>\n",
              "      <th>os</th>\n",
              "      <th>channel</th>\n",
              "      <th>is_attributed</th>\n",
              "      <th>Day</th>\n",
              "      <th>Hour</th>\n",
              "    </tr>\n",
              "  </thead>\n",
              "  <tbody>\n",
              "    <tr>\n",
              "      <th>0</th>\n",
              "      <td>0.239977</td>\n",
              "      <td>0.020000</td>\n",
              "      <td>0.000259</td>\n",
              "      <td>0.015012</td>\n",
              "      <td>0.997980</td>\n",
              "      <td>0.0</td>\n",
              "      <td>0.333333</td>\n",
              "      <td>0.391304</td>\n",
              "    </tr>\n",
              "    <tr>\n",
              "      <th>1</th>\n",
              "      <td>0.289381</td>\n",
              "      <td>0.043636</td>\n",
              "      <td>0.000259</td>\n",
              "      <td>0.019630</td>\n",
              "      <td>0.517172</td>\n",
              "      <td>0.0</td>\n",
              "      <td>0.333333</td>\n",
              "      <td>0.565217</td>\n",
              "    </tr>\n",
              "    <tr>\n",
              "      <th>2</th>\n",
              "      <td>0.278041</td>\n",
              "      <td>0.020000</td>\n",
              "      <td>0.000259</td>\n",
              "      <td>0.021940</td>\n",
              "      <td>0.422222</td>\n",
              "      <td>0.0</td>\n",
              "      <td>0.333333</td>\n",
              "      <td>0.782609</td>\n",
              "    </tr>\n",
              "    <tr>\n",
              "      <th>3</th>\n",
              "      <td>0.259289</td>\n",
              "      <td>0.021818</td>\n",
              "      <td>0.000259</td>\n",
              "      <td>0.015012</td>\n",
              "      <td>0.957576</td>\n",
              "      <td>0.0</td>\n",
              "      <td>0.333333</td>\n",
              "      <td>0.173913</td>\n",
              "    </tr>\n",
              "    <tr>\n",
              "      <th>4</th>\n",
              "      <td>0.187538</td>\n",
              "      <td>0.020000</td>\n",
              "      <td>0.000259</td>\n",
              "      <td>0.001155</td>\n",
              "      <td>0.353535</td>\n",
              "      <td>0.0</td>\n",
              "      <td>1.000000</td>\n",
              "      <td>0.391304</td>\n",
              "    </tr>\n",
              "  </tbody>\n",
              "</table>\n",
              "</div>\n",
              "      <button class=\"colab-df-convert\" onclick=\"convertToInteractive('df-7a498d8e-52f2-42c5-b3a9-909671855706')\"\n",
              "              title=\"Convert this dataframe to an interactive table.\"\n",
              "              style=\"display:none;\">\n",
              "        \n",
              "  <svg xmlns=\"http://www.w3.org/2000/svg\" height=\"24px\"viewBox=\"0 0 24 24\"\n",
              "       width=\"24px\">\n",
              "    <path d=\"M0 0h24v24H0V0z\" fill=\"none\"/>\n",
              "    <path d=\"M18.56 5.44l.94 2.06.94-2.06 2.06-.94-2.06-.94-.94-2.06-.94 2.06-2.06.94zm-11 1L8.5 8.5l.94-2.06 2.06-.94-2.06-.94L8.5 2.5l-.94 2.06-2.06.94zm10 10l.94 2.06.94-2.06 2.06-.94-2.06-.94-.94-2.06-.94 2.06-2.06.94z\"/><path d=\"M17.41 7.96l-1.37-1.37c-.4-.4-.92-.59-1.43-.59-.52 0-1.04.2-1.43.59L10.3 9.45l-7.72 7.72c-.78.78-.78 2.05 0 2.83L4 21.41c.39.39.9.59 1.41.59.51 0 1.02-.2 1.41-.59l7.78-7.78 2.81-2.81c.8-.78.8-2.07 0-2.86zM5.41 20L4 18.59l7.72-7.72 1.47 1.35L5.41 20z\"/>\n",
              "  </svg>\n",
              "      </button>\n",
              "      \n",
              "  <style>\n",
              "    .colab-df-container {\n",
              "      display:flex;\n",
              "      flex-wrap:wrap;\n",
              "      gap: 12px;\n",
              "    }\n",
              "\n",
              "    .colab-df-convert {\n",
              "      background-color: #E8F0FE;\n",
              "      border: none;\n",
              "      border-radius: 50%;\n",
              "      cursor: pointer;\n",
              "      display: none;\n",
              "      fill: #1967D2;\n",
              "      height: 32px;\n",
              "      padding: 0 0 0 0;\n",
              "      width: 32px;\n",
              "    }\n",
              "\n",
              "    .colab-df-convert:hover {\n",
              "      background-color: #E2EBFA;\n",
              "      box-shadow: 0px 1px 2px rgba(60, 64, 67, 0.3), 0px 1px 3px 1px rgba(60, 64, 67, 0.15);\n",
              "      fill: #174EA6;\n",
              "    }\n",
              "\n",
              "    [theme=dark] .colab-df-convert {\n",
              "      background-color: #3B4455;\n",
              "      fill: #D2E3FC;\n",
              "    }\n",
              "\n",
              "    [theme=dark] .colab-df-convert:hover {\n",
              "      background-color: #434B5C;\n",
              "      box-shadow: 0px 1px 3px 1px rgba(0, 0, 0, 0.15);\n",
              "      filter: drop-shadow(0px 1px 2px rgba(0, 0, 0, 0.3));\n",
              "      fill: #FFFFFF;\n",
              "    }\n",
              "  </style>\n",
              "\n",
              "      <script>\n",
              "        const buttonEl =\n",
              "          document.querySelector('#df-7a498d8e-52f2-42c5-b3a9-909671855706 button.colab-df-convert');\n",
              "        buttonEl.style.display =\n",
              "          google.colab.kernel.accessAllowed ? 'block' : 'none';\n",
              "\n",
              "        async function convertToInteractive(key) {\n",
              "          const element = document.querySelector('#df-7a498d8e-52f2-42c5-b3a9-909671855706');\n",
              "          const dataTable =\n",
              "            await google.colab.kernel.invokeFunction('convertToInteractive',\n",
              "                                                     [key], {});\n",
              "          if (!dataTable) return;\n",
              "\n",
              "          const docLinkHtml = 'Like what you see? Visit the ' +\n",
              "            '<a target=\"_blank\" href=https://colab.research.google.com/notebooks/data_table.ipynb>data table notebook</a>'\n",
              "            + ' to learn more about interactive tables.';\n",
              "          element.innerHTML = '';\n",
              "          dataTable['output_type'] = 'display_data';\n",
              "          await google.colab.output.renderOutput(dataTable, element);\n",
              "          const docLink = document.createElement('div');\n",
              "          docLink.innerHTML = docLinkHtml;\n",
              "          element.appendChild(docLink);\n",
              "        }\n",
              "      </script>\n",
              "    </div>\n",
              "  </div>\n",
              "  "
            ],
            "text/plain": [
              "         ip       app    device  ...  is_attributed       Day      Hour\n",
              "0  0.239977  0.020000  0.000259  ...            0.0  0.333333  0.391304\n",
              "1  0.289381  0.043636  0.000259  ...            0.0  0.333333  0.565217\n",
              "2  0.278041  0.020000  0.000259  ...            0.0  0.333333  0.782609\n",
              "3  0.259289  0.021818  0.000259  ...            0.0  0.333333  0.173913\n",
              "4  0.187538  0.020000  0.000259  ...            0.0  1.000000  0.391304\n",
              "\n",
              "[5 rows x 8 columns]"
            ]
          },
          "metadata": {},
          "execution_count": 119
        }
      ]
    },
    {
      "cell_type": "code",
      "execution_count": 120,
      "metadata": {
        "colab": {
          "base_uri": "https://localhost:8080/",
          "height": 300
        },
        "id": "FSx0LI-FSPth",
        "outputId": "4601279f-21ec-47db-eb05-52c6a0de8bbb"
      },
      "outputs": [
        {
          "output_type": "execute_result",
          "data": {
            "text/html": [
              "\n",
              "  <div id=\"df-37850afa-1f6e-46b7-ac13-236bcf7afbbb\">\n",
              "    <div class=\"colab-df-container\">\n",
              "      <div>\n",
              "<style scoped>\n",
              "    .dataframe tbody tr th:only-of-type {\n",
              "        vertical-align: middle;\n",
              "    }\n",
              "\n",
              "    .dataframe tbody tr th {\n",
              "        vertical-align: top;\n",
              "    }\n",
              "\n",
              "    .dataframe thead th {\n",
              "        text-align: right;\n",
              "    }\n",
              "</style>\n",
              "<table border=\"1\" class=\"dataframe\">\n",
              "  <thead>\n",
              "    <tr style=\"text-align: right;\">\n",
              "      <th></th>\n",
              "      <th>ip</th>\n",
              "      <th>app</th>\n",
              "      <th>device</th>\n",
              "      <th>os</th>\n",
              "      <th>channel</th>\n",
              "      <th>is_attributed</th>\n",
              "      <th>Day</th>\n",
              "      <th>Hour</th>\n",
              "    </tr>\n",
              "  </thead>\n",
              "  <tbody>\n",
              "    <tr>\n",
              "      <th>ip</th>\n",
              "      <td>1.000000</td>\n",
              "      <td>0.010400</td>\n",
              "      <td>-0.001499</td>\n",
              "      <td>-0.000470</td>\n",
              "      <td>0.007563</td>\n",
              "      <td>0.054955</td>\n",
              "      <td>0.057067</td>\n",
              "      <td>-0.007955</td>\n",
              "    </tr>\n",
              "    <tr>\n",
              "      <th>app</th>\n",
              "      <td>0.010400</td>\n",
              "      <td>1.000000</td>\n",
              "      <td>0.248376</td>\n",
              "      <td>0.247160</td>\n",
              "      <td>-0.028238</td>\n",
              "      <td>0.064426</td>\n",
              "      <td>-0.032182</td>\n",
              "      <td>0.026079</td>\n",
              "    </tr>\n",
              "    <tr>\n",
              "      <th>device</th>\n",
              "      <td>-0.001499</td>\n",
              "      <td>0.248376</td>\n",
              "      <td>1.000000</td>\n",
              "      <td>0.924456</td>\n",
              "      <td>-0.035398</td>\n",
              "      <td>-0.000695</td>\n",
              "      <td>-0.040110</td>\n",
              "      <td>0.012035</td>\n",
              "    </tr>\n",
              "    <tr>\n",
              "      <th>os</th>\n",
              "      <td>-0.000470</td>\n",
              "      <td>0.247160</td>\n",
              "      <td>0.924456</td>\n",
              "      <td>1.000000</td>\n",
              "      <td>-0.033175</td>\n",
              "      <td>0.006183</td>\n",
              "      <td>-0.031336</td>\n",
              "      <td>0.014660</td>\n",
              "    </tr>\n",
              "    <tr>\n",
              "      <th>channel</th>\n",
              "      <td>0.007563</td>\n",
              "      <td>-0.028238</td>\n",
              "      <td>-0.035398</td>\n",
              "      <td>-0.033175</td>\n",
              "      <td>1.000000</td>\n",
              "      <td>-0.023336</td>\n",
              "      <td>0.000265</td>\n",
              "      <td>-0.021326</td>\n",
              "    </tr>\n",
              "    <tr>\n",
              "      <th>is_attributed</th>\n",
              "      <td>0.054955</td>\n",
              "      <td>0.064426</td>\n",
              "      <td>-0.000695</td>\n",
              "      <td>0.006183</td>\n",
              "      <td>-0.023336</td>\n",
              "      <td>1.000000</td>\n",
              "      <td>-0.000603</td>\n",
              "      <td>-0.002944</td>\n",
              "    </tr>\n",
              "    <tr>\n",
              "      <th>Day</th>\n",
              "      <td>0.057067</td>\n",
              "      <td>-0.032182</td>\n",
              "      <td>-0.040110</td>\n",
              "      <td>-0.031336</td>\n",
              "      <td>0.000265</td>\n",
              "      <td>-0.000603</td>\n",
              "      <td>1.000000</td>\n",
              "      <td>-0.274896</td>\n",
              "    </tr>\n",
              "    <tr>\n",
              "      <th>Hour</th>\n",
              "      <td>-0.007955</td>\n",
              "      <td>0.026079</td>\n",
              "      <td>0.012035</td>\n",
              "      <td>0.014660</td>\n",
              "      <td>-0.021326</td>\n",
              "      <td>-0.002944</td>\n",
              "      <td>-0.274896</td>\n",
              "      <td>1.000000</td>\n",
              "    </tr>\n",
              "  </tbody>\n",
              "</table>\n",
              "</div>\n",
              "      <button class=\"colab-df-convert\" onclick=\"convertToInteractive('df-37850afa-1f6e-46b7-ac13-236bcf7afbbb')\"\n",
              "              title=\"Convert this dataframe to an interactive table.\"\n",
              "              style=\"display:none;\">\n",
              "        \n",
              "  <svg xmlns=\"http://www.w3.org/2000/svg\" height=\"24px\"viewBox=\"0 0 24 24\"\n",
              "       width=\"24px\">\n",
              "    <path d=\"M0 0h24v24H0V0z\" fill=\"none\"/>\n",
              "    <path d=\"M18.56 5.44l.94 2.06.94-2.06 2.06-.94-2.06-.94-.94-2.06-.94 2.06-2.06.94zm-11 1L8.5 8.5l.94-2.06 2.06-.94-2.06-.94L8.5 2.5l-.94 2.06-2.06.94zm10 10l.94 2.06.94-2.06 2.06-.94-2.06-.94-.94-2.06-.94 2.06-2.06.94z\"/><path d=\"M17.41 7.96l-1.37-1.37c-.4-.4-.92-.59-1.43-.59-.52 0-1.04.2-1.43.59L10.3 9.45l-7.72 7.72c-.78.78-.78 2.05 0 2.83L4 21.41c.39.39.9.59 1.41.59.51 0 1.02-.2 1.41-.59l7.78-7.78 2.81-2.81c.8-.78.8-2.07 0-2.86zM5.41 20L4 18.59l7.72-7.72 1.47 1.35L5.41 20z\"/>\n",
              "  </svg>\n",
              "      </button>\n",
              "      \n",
              "  <style>\n",
              "    .colab-df-container {\n",
              "      display:flex;\n",
              "      flex-wrap:wrap;\n",
              "      gap: 12px;\n",
              "    }\n",
              "\n",
              "    .colab-df-convert {\n",
              "      background-color: #E8F0FE;\n",
              "      border: none;\n",
              "      border-radius: 50%;\n",
              "      cursor: pointer;\n",
              "      display: none;\n",
              "      fill: #1967D2;\n",
              "      height: 32px;\n",
              "      padding: 0 0 0 0;\n",
              "      width: 32px;\n",
              "    }\n",
              "\n",
              "    .colab-df-convert:hover {\n",
              "      background-color: #E2EBFA;\n",
              "      box-shadow: 0px 1px 2px rgba(60, 64, 67, 0.3), 0px 1px 3px 1px rgba(60, 64, 67, 0.15);\n",
              "      fill: #174EA6;\n",
              "    }\n",
              "\n",
              "    [theme=dark] .colab-df-convert {\n",
              "      background-color: #3B4455;\n",
              "      fill: #D2E3FC;\n",
              "    }\n",
              "\n",
              "    [theme=dark] .colab-df-convert:hover {\n",
              "      background-color: #434B5C;\n",
              "      box-shadow: 0px 1px 3px 1px rgba(0, 0, 0, 0.15);\n",
              "      filter: drop-shadow(0px 1px 2px rgba(0, 0, 0, 0.3));\n",
              "      fill: #FFFFFF;\n",
              "    }\n",
              "  </style>\n",
              "\n",
              "      <script>\n",
              "        const buttonEl =\n",
              "          document.querySelector('#df-37850afa-1f6e-46b7-ac13-236bcf7afbbb button.colab-df-convert');\n",
              "        buttonEl.style.display =\n",
              "          google.colab.kernel.accessAllowed ? 'block' : 'none';\n",
              "\n",
              "        async function convertToInteractive(key) {\n",
              "          const element = document.querySelector('#df-37850afa-1f6e-46b7-ac13-236bcf7afbbb');\n",
              "          const dataTable =\n",
              "            await google.colab.kernel.invokeFunction('convertToInteractive',\n",
              "                                                     [key], {});\n",
              "          if (!dataTable) return;\n",
              "\n",
              "          const docLinkHtml = 'Like what you see? Visit the ' +\n",
              "            '<a target=\"_blank\" href=https://colab.research.google.com/notebooks/data_table.ipynb>data table notebook</a>'\n",
              "            + ' to learn more about interactive tables.';\n",
              "          element.innerHTML = '';\n",
              "          dataTable['output_type'] = 'display_data';\n",
              "          await google.colab.output.renderOutput(dataTable, element);\n",
              "          const docLink = document.createElement('div');\n",
              "          docLink.innerHTML = docLinkHtml;\n",
              "          element.appendChild(docLink);\n",
              "        }\n",
              "      </script>\n",
              "    </div>\n",
              "  </div>\n",
              "  "
            ],
            "text/plain": [
              "                     ip       app    device  ...  is_attributed       Day      Hour\n",
              "ip             1.000000  0.010400 -0.001499  ...       0.054955  0.057067 -0.007955\n",
              "app            0.010400  1.000000  0.248376  ...       0.064426 -0.032182  0.026079\n",
              "device        -0.001499  0.248376  1.000000  ...      -0.000695 -0.040110  0.012035\n",
              "os            -0.000470  0.247160  0.924456  ...       0.006183 -0.031336  0.014660\n",
              "channel        0.007563 -0.028238 -0.035398  ...      -0.023336  0.000265 -0.021326\n",
              "is_attributed  0.054955  0.064426 -0.000695  ...       1.000000 -0.000603 -0.002944\n",
              "Day            0.057067 -0.032182 -0.040110  ...      -0.000603  1.000000 -0.274896\n",
              "Hour          -0.007955  0.026079  0.012035  ...      -0.002944 -0.274896  1.000000\n",
              "\n",
              "[8 rows x 8 columns]"
            ]
          },
          "metadata": {},
          "execution_count": 120
        }
      ],
      "source": [
        "#Find the corelation\n",
        "corr = data.corr()\n",
        "corr"
      ]
    },
    {
      "cell_type": "code",
      "execution_count": 121,
      "metadata": {
        "colab": {
          "base_uri": "https://localhost:8080/",
          "height": 595
        },
        "id": "bRWfKRzgSo9S",
        "outputId": "81de2359-9c6f-44b0-c384-568c7b8b3866"
      },
      "outputs": [
        {
          "output_type": "execute_result",
          "data": {
            "text/plain": [
              "<matplotlib.axes._subplots.AxesSubplot at 0x7f0aaa50b8d0>"
            ]
          },
          "metadata": {},
          "execution_count": 121
        },
        {
          "output_type": "display_data",
          "data": {
            "image/png": "[encoded data removed]",
            "text/plain": [
              "<Figure size 720x720 with 2 Axes>"
            ]
          },
          "metadata": {
            "needs_background": "light"
          }
        }
      ],
      "source": [
        "#Plot the correlation\n",
        "plt.figure(figsize = (10,10))\n",
        "sns.heatmap(corr, annot= True,square = True)"
      ]
    },
    {
      "cell_type": "code",
      "source": [
        "data.is_attributed.value_counts()"
      ],
      "metadata": {
        "id": "M5RIQANil2Qj",
        "outputId": "203f5548-5627-4939-8c6b-5a882b3145bf",
        "colab": {
          "base_uri": "https://localhost:8080/"
        }
      },
      "execution_count": 122,
      "outputs": [
        {
          "output_type": "execute_result",
          "data": {
            "text/plain": [
              "0.0    99773\n",
              "1.0      227\n",
              "Name: is_attributed, dtype: int64"
            ]
          },
          "metadata": {},
          "execution_count": 122
        }
      ]
    },
    {
      "cell_type": "code",
      "execution_count": 123,
      "metadata": {
        "id": "zTeGxkEiStnz"
      },
      "outputs": [],
      "source": [
        "from sklearn.model_selection import train_test_split\n",
        "X =data.drop('is_attributed', axis = 'columns')\n",
        "Y = data['is_attributed']\n",
        "X_train, X_test, Y_train, Y_test = train_test_split(X,Y, test_size = 0.20, random_state = 10)"
      ]
    },
    {
      "cell_type": "code",
      "source": [
        "Y_test.mean()"
      ],
      "metadata": {
        "colab": {
          "base_uri": "https://localhost:8080/"
        },
        "id": "EKSY81sYi-Dk",
        "outputId": "8b2d3636-6e8b-4870-c834-4df1e194fa30"
      },
      "execution_count": 124,
      "outputs": [
        {
          "output_type": "execute_result",
          "data": {
            "text/plain": [
              "0.00195"
            ]
          },
          "metadata": {},
          "execution_count": 124
        }
      ]
    },
    {
      "cell_type": "code",
      "source": [
        "Y_train.mean()"
      ],
      "metadata": {
        "colab": {
          "base_uri": "https://localhost:8080/"
        },
        "id": "wGMbHrW4jSCu",
        "outputId": "3da05032-3f08-4299-c2c0-11635a5ee479"
      },
      "execution_count": 125,
      "outputs": [
        {
          "output_type": "execute_result",
          "data": {
            "text/plain": [
              "0.00235"
            ]
          },
          "metadata": {},
          "execution_count": 125
        }
      ]
    },
    {
      "cell_type": "code",
      "source": [
        "from xgboost import XGBClassifier\n",
        "xgbc  = XGBClassifier()\n",
        "xgbc.fit(X_train, Y_train)\n"
      ],
      "metadata": {
        "id": "DwY6Hy-gjgqq",
        "colab": {
          "base_uri": "https://localhost:8080/"
        },
        "outputId": "00141f7a-1424-4124-e3eb-669b829de8f9"
      },
      "execution_count": 126,
      "outputs": [
        {
          "output_type": "execute_result",
          "data": {
            "text/plain": [
              "XGBClassifier()"
            ]
          },
          "metadata": {},
          "execution_count": 126
        }
      ]
    },
    {
      "cell_type": "code",
      "source": [
        "y_pred = xgbc.predict(X_test)\n",
        "print(y_pred)"
      ],
      "metadata": {
        "colab": {
          "base_uri": "https://localhost:8080/"
        },
        "id": "f2_Jxwx0CbzG",
        "outputId": "f1eaa341-03a8-40bc-cb46-5725d7f04103"
      },
      "execution_count": 127,
      "outputs": [
        {
          "output_type": "stream",
          "name": "stdout",
          "text": [
            "[0. 0. 0. ... 0. 0. 0.]\n"
          ]
        }
      ]
    },
    {
      "cell_type": "code",
      "source": [
        "from sklearn.metrics import accuracy_score\n",
        "accuracy_scor = accuracy_score(y_pred,Y_test)\n",
        "accuracy_scor"
      ],
      "metadata": {
        "colab": {
          "base_uri": "https://localhost:8080/"
        },
        "id": "R6WKaoj-E461",
        "outputId": "66f5614c-cab0-4273-b881-fac6361300be"
      },
      "execution_count": 128,
      "outputs": [
        {
          "output_type": "execute_result",
          "data": {
            "text/plain": [
              "0.99815"
            ]
          },
          "metadata": {},
          "execution_count": 128
        }
      ]
    },
    {
      "cell_type": "code",
      "source": [
        "from sklearn.metrics import confusion_matrix\n",
        "cm = confusion_matrix(y_pred, Y_test)\n",
        "cm"
      ],
      "metadata": {
        "colab": {
          "base_uri": "https://localhost:8080/"
        },
        "id": "NWpWmj_pFIcR",
        "outputId": "612c7f4b-ad5e-461c-911f-4e53daaa2394"
      },
      "execution_count": 129,
      "outputs": [
        {
          "output_type": "execute_result",
          "data": {
            "text/plain": [
              "array([[19961,    37],\n",
              "       [    0,     2]])"
            ]
          },
          "metadata": {},
          "execution_count": 129
        }
      ]
    },
    {
      "cell_type": "code",
      "source": [
        "sns.heatmap(cm, annot = True)"
      ],
      "metadata": {
        "colab": {
          "base_uri": "https://localhost:8080/",
          "height": 282
        },
        "id": "ttlQqO_-F6WT",
        "outputId": "3c55af88-60df-4e11-faaa-9950121b7c77"
      },
      "execution_count": 130,
      "outputs": [
        {
          "output_type": "execute_result",
          "data": {
            "text/plain": [
              "<matplotlib.axes._subplots.AxesSubplot at 0x7f0aaa382d90>"
            ]
          },
          "metadata": {},
          "execution_count": 130
        },
        {
          "output_type": "display_data",
          "data": {
            "image/png": "[encoded data removed]",
            "text/plain": [
              "<Figure size 432x288 with 2 Axes>"
            ]
          },
          "metadata": {
            "needs_background": "light"
          }
        }
      ]
    },
    {
      "cell_type": "code",
      "source": [
        "sns.countplot(data.is_attributed)"
      ],
      "metadata": {
        "colab": {
          "base_uri": "https://localhost:8080/",
          "height": 297
        },
        "id": "mNWOsiDNGHEy",
        "outputId": "d3d6470c-582e-492e-d0d5-a50086d9ed33"
      },
      "execution_count": 131,
      "outputs": [
        {
          "output_type": "execute_result",
          "data": {
            "text/plain": [
              "<matplotlib.axes._subplots.AxesSubplot at 0x7f0aaa3138d0>"
            ]
          },
          "metadata": {},
          "execution_count": 131
        },
        {
          "output_type": "display_data",
          "data": {
            "image/png": "[encoded data removed]",
            "text/plain": [
              "<Figure size 432x288 with 1 Axes>"
            ]
          },
          "metadata": {
            "needs_background": "light"
          }
        }
      ]
    },
    {
      "cell_type": "code",
      "source": [
        "import imblearn\n",
        "from imblearn.over_sampling import SMOTE\n",
        "sm = SMOTE()\n",
        "X_sm, Y_sm = sm.fit_resample(X,Y)"
      ],
      "metadata": {
        "id": "RiNMYHW2Jou_"
      },
      "execution_count": 132,
      "outputs": []
    },
    {
      "cell_type": "code",
      "source": [
        "X_train, X_test, Y_train, Y_test = train_test_split(X_sm,Y_sm, test_size = 0.20, random_state = 10)"
      ],
      "metadata": {
        "id": "HikIb1YUTL70"
      },
      "execution_count": 133,
      "outputs": []
    },
    {
      "cell_type": "code",
      "source": [
        "xgbc_after_smote = xgbc.fit(X_train, Y_train)\n",
        "xgbc_after_smote"
      ],
      "metadata": {
        "colab": {
          "base_uri": "https://localhost:8080/"
        },
        "id": "NhkHXcTdKSi5",
        "outputId": "3153338d-7442-4621-adff-0e5d5055a9de"
      },
      "execution_count": 134,
      "outputs": [
        {
          "output_type": "execute_result",
          "data": {
            "text/plain": [
              "XGBClassifier()"
            ]
          },
          "metadata": {},
          "execution_count": 134
        }
      ]
    },
    {
      "cell_type": "code",
      "source": [
        "Y_sm.value_counts()"
      ],
      "metadata": {
        "colab": {
          "base_uri": "https://localhost:8080/"
        },
        "id": "6iXc2N--Sm1J",
        "outputId": "d1e89e6c-7a10-4986-ffbe-3a93b4b978c0"
      },
      "execution_count": 135,
      "outputs": [
        {
          "output_type": "execute_result",
          "data": {
            "text/plain": [
              "0.0    99773\n",
              "1.0    99773\n",
              "Name: is_attributed, dtype: int64"
            ]
          },
          "metadata": {},
          "execution_count": 135
        }
      ]
    },
    {
      "cell_type": "code",
      "source": [
        "predictions = xgbc.predict(X_test)\n",
        "predictions"
      ],
      "metadata": {
        "colab": {
          "base_uri": "https://localhost:8080/"
        },
        "id": "AuVW89ONKuQq",
        "outputId": "95431b25-a624-4fcf-9e3b-f4630737e3bf"
      },
      "execution_count": 136,
      "outputs": [
        {
          "output_type": "execute_result",
          "data": {
            "text/plain": [
              "array([0., 0., 1., ..., 1., 1., 1.])"
            ]
          },
          "metadata": {},
          "execution_count": 136
        }
      ]
    },
    {
      "cell_type": "code",
      "source": [
        "accuracy = accuracy_score(Y_test,predictions)\n",
        "accuracy"
      ],
      "metadata": {
        "colab": {
          "base_uri": "https://localhost:8080/"
        },
        "id": "fYyccJoDME0W",
        "outputId": "906db808-a586-49b4-c4cc-095e52c249a0"
      },
      "execution_count": 137,
      "outputs": [
        {
          "output_type": "execute_result",
          "data": {
            "text/plain": [
              "0.968454021548484"
            ]
          },
          "metadata": {},
          "execution_count": 137
        }
      ]
    },
    {
      "cell_type": "code",
      "source": [
        "cm1 = confusion_matrix(predictions, Y_test)\n",
        "cm1"
      ],
      "metadata": {
        "colab": {
          "base_uri": "https://localhost:8080/"
        },
        "id": "x66LYdUjLKhh",
        "outputId": "1438f8d2-1088-47fd-9f37-ff46c918473a"
      },
      "execution_count": 138,
      "outputs": [
        {
          "output_type": "execute_result",
          "data": {
            "text/plain": [
              "array([[19416,   774],\n",
              "       [  485, 19235]])"
            ]
          },
          "metadata": {},
          "execution_count": 138
        }
      ]
    },
    {
      "cell_type": "code",
      "source": [
        "sns.heatmap(cm1, annot = True)"
      ],
      "metadata": {
        "colab": {
          "base_uri": "https://localhost:8080/",
          "height": 282
        },
        "id": "xrxg5qS2LPQB",
        "outputId": "eefed762-4605-400d-e226-d034759d583a"
      },
      "execution_count": 139,
      "outputs": [
        {
          "output_type": "execute_result",
          "data": {
            "text/plain": [
              "<matplotlib.axes._subplots.AxesSubplot at 0x7f0aaa281890>"
            ]
          },
          "metadata": {},
          "execution_count": 139
        },
        {
          "output_type": "display_data",
          "data": {
            "image/png": "[encoded data removed]",
            "text/plain": [
              "<Figure size 432x288 with 2 Axes>"
            ]
          },
          "metadata": {
            "needs_background": "light"
          }
        }
      ]
    },
    {
      "cell_type": "code",
      "source": [
        "predictions[:10]"
      ],
      "metadata": {
        "colab": {
          "base_uri": "https://localhost:8080/"
        },
        "id": "thj-fSJdMAdA",
        "outputId": "4521f80f-3556-4b56-8407-ecfe2b48bd59"
      },
      "execution_count": 140,
      "outputs": [
        {
          "output_type": "execute_result",
          "data": {
            "text/plain": [
              "array([0., 0., 1., 0., 1., 0., 1., 1., 0., 1.])"
            ]
          },
          "metadata": {},
          "execution_count": 140
        }
      ]
    },
    {
      "cell_type": "code",
      "source": [
        "# auc scores\n",
        "from sklearn.metrics import roc_curve\n",
        "from sklearn.metrics import roc_auc_score\n",
        "auc_score1 = roc_auc_score(Y_test, predictions)\n",
        "print(auc_score1)"
      ],
      "metadata": {
        "colab": {
          "base_uri": "https://localhost:8080/"
        },
        "id": "IN5NpIbAUdei",
        "outputId": "b3bfbf1e-6b4a-4e7a-bc92-3f7d7ddb7d9a"
      },
      "execution_count": 141,
      "outputs": [
        {
          "output_type": "stream",
          "name": "stdout",
          "text": [
            "0.9684733862626499\n"
          ]
        }
      ]
    },
    {
      "cell_type": "code",
      "source": [
        "#Apply BaggingClassifier with base_estimator LogisticRegression and compute AUC/ROC score.\n",
        "from sklearn.ensemble import BaggingClassifier\n",
        "\n",
        "bgcl = BaggingClassifier(n_estimators=10, max_samples= .7, bootstrap=True)\n",
        "bgcl = bgcl.fit(X_train, Y_train)\n",
        "test_pred = bgcl.predict(X_test)\n",
        "bgcl_score=bgcl.score(X_test, Y_test)\n",
        "print(\"The Bagging classifier model accuracy is {}\".format(bgcl_score))"
      ],
      "metadata": {
        "colab": {
          "base_uri": "https://localhost:8080/"
        },
        "id": "rMlJsq2YUeRS",
        "outputId": "74a1e85a-fde3-4d27-ca5b-d97c46bb067d"
      },
      "execution_count": 142,
      "outputs": [
        {
          "output_type": "stream",
          "name": "stdout",
          "text": [
            "The Bagging classifier model accuracy is 0.9971435730393385\n"
          ]
        }
      ]
    },
    {
      "cell_type": "code",
      "source": [
        ""
      ],
      "metadata": {
        "id": "5dY9aLIFrMUs"
      },
      "execution_count": 142,
      "outputs": []
    },
    {
      "cell_type": "code",
      "source": [
        "#Compute feature importance score and name the top 5 features/columns \n",
        "importance =xgbc_after_smote.feature_importances_\n",
        "from matplotlib import pyplot\n",
        "# summarize feature importance\n",
        "for i,v in enumerate(importance):\n",
        "\tprint('Feature: %0d, Score: %.5f' % (i,v))\n",
        "# plot feature importance\n",
        "pyplot.bar([x for x in range(len(importance))], importance)\n",
        "pyplot.show()"
      ],
      "metadata": {
        "colab": {
          "base_uri": "https://localhost:8080/",
          "height": 387
        },
        "id": "iDyj1ERSVQqD",
        "outputId": "708d4ed6-7844-4aa3-a0f6-89bc98159081"
      },
      "execution_count": 143,
      "outputs": [
        {
          "output_type": "stream",
          "name": "stdout",
          "text": [
            "Feature: 0, Score: 0.17390\n",
            "Feature: 1, Score: 0.36211\n",
            "Feature: 2, Score: 0.16345\n",
            "Feature: 3, Score: 0.08567\n",
            "Feature: 4, Score: 0.11236\n",
            "Feature: 5, Score: 0.04404\n",
            "Feature: 6, Score: 0.05846\n"
          ]
        },
        {
          "output_type": "display_data",
          "data": {
            "image/png": "[encoded data removed]",
            "text/plain": [
              "<Figure size 432x288 with 1 Axes>"
            ]
          },
          "metadata": {
            "needs_background": "light"
          }
        }
      ]
    },
    {
      "cell_type": "code",
      "source": [
        "print('On the basis of AUC/ROC score I would chose the BaggingClassifier model because the AUC score is higher for this model which suggests it is better at predicting.')"
      ],
      "metadata": {
        "colab": {
          "base_uri": "https://localhost:8080/"
        },
        "id": "7WEbAQdMsMnW",
        "outputId": "a04ff6b9-ca9a-4c45-bf97-997ed21fcb88"
      },
      "execution_count": 144,
      "outputs": [
        {
          "output_type": "stream",
          "name": "stdout",
          "text": [
            "On the basis of AUC/ROC score I would chose the BaggingClassifier model because the AUC score is higher for this model which suggests it is better at predicting.\n"
          ]
        }
      ]
    },
    {
      "cell_type": "code",
      "source": [
        ""
      ],
      "metadata": {
        "id": "AG-XJ_wssoZP"
      },
      "execution_count": 144,
      "outputs": []
    }
  ],
  "metadata": {
    "colab": {
      "name": "Mobile_final46.ipynb",
      "provenance": [],
      "mount_file_id": "14Y2hl0DaopgLI-ocfVpLkxc4AsYI549N",
      "authorship_tag": "ABX9TyOb2kV6wSAo9gob5fqEVok9",
      "include_colab_link": true
    },
    "kernelspec": {
      "display_name": "Python 3",
      "name": "python3"
    },
    "language_info": {
      "name": "python"
    }
  },
  "nbformat": 4,
  "nbformat_minor": 0
}